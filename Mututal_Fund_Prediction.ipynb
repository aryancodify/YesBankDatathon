{
 "cells": [
  {
   "cell_type": "markdown",
   "metadata": {},
   "source": [
    "Notebook to predict the basis points for mututal funds."
   ]
  },
  {
   "cell_type": "code",
   "execution_count": 2,
   "metadata": {},
   "outputs": [],
   "source": [
    "import pandas as pd\n",
    "import numpy as np\n",
    "import matplotlib.pyplot as plt\n",
    "import seaborn as sns\n",
    "from sklearn.linear_model import LinearRegression\n",
    "from sklearn.model_selection import train_test_split\n",
    "from sklearn.metrics import r2_score, mean_squared_error\n",
    "import statsmodels.api as sm\n",
    "\n",
    "plt.style.use('ggplot')"
   ]
  },
  {
   "cell_type": "code",
   "execution_count": 3,
   "metadata": {},
   "outputs": [],
   "source": [
    "mdf = pd.read_csv('Yes_Bank_Train.csv', encoding='palmos')"
   ]
  },
  {
   "cell_type": "code",
   "execution_count": 4,
   "metadata": {},
   "outputs": [
    {
     "data": {
      "text/html": [
       "<div>\n",
       "<style scoped>\n",
       "    .dataframe tbody tr th:only-of-type {\n",
       "        vertical-align: middle;\n",
       "    }\n",
       "\n",
       "    .dataframe tbody tr th {\n",
       "        vertical-align: top;\n",
       "    }\n",
       "\n",
       "    .dataframe thead th {\n",
       "        text-align: right;\n",
       "    }\n",
       "</style>\n",
       "<table border=\"1\" class=\"dataframe\">\n",
       "  <thead>\n",
       "    <tr style=\"text-align: right;\">\n",
       "      <th></th>\n",
       "      <th>Serial Number</th>\n",
       "      <th>fund_symbol</th>\n",
       "      <th>fund_name</th>\n",
       "      <th>category</th>\n",
       "      <th>fund_family</th>\n",
       "      <th>investment</th>\n",
       "      <th>size</th>\n",
       "      <th>total_net_assets</th>\n",
       "      <th>currency</th>\n",
       "      <th>net_annual_expenses_ratio</th>\n",
       "      <th>...</th>\n",
       "      <th>returns_2012</th>\n",
       "      <th>returns_2011</th>\n",
       "      <th>returns_2010</th>\n",
       "      <th>morningstar_risk_rating</th>\n",
       "      <th>alpha_3y</th>\n",
       "      <th>beta_3y</th>\n",
       "      <th>mean_annual_return_3y</th>\n",
       "      <th>standard_deviation_3y</th>\n",
       "      <th>sharpe_ratio_3y</th>\n",
       "      <th>treynor_ratio_3y</th>\n",
       "    </tr>\n",
       "  </thead>\n",
       "  <tbody>\n",
       "    <tr>\n",
       "      <th>0</th>\n",
       "      <td>1</td>\n",
       "      <td>AAAAX</td>\n",
       "      <td>Deutsche Real Assets A</td>\n",
       "      <td>World Allocation</td>\n",
       "      <td>Deutsche Asset Management</td>\n",
       "      <td>Blend</td>\n",
       "      <td>Large</td>\n",
       "      <td>486740000</td>\n",
       "      <td>USD</td>\n",
       "      <td>1.22</td>\n",
       "      <td>...</td>\n",
       "      <td>9.32</td>\n",
       "      <td>-3.46</td>\n",
       "      <td>12.20</td>\n",
       "      <td>3</td>\n",
       "      <td>-1.96</td>\n",
       "      <td>0.84</td>\n",
       "      <td>0.26</td>\n",
       "      <td>7.16</td>\n",
       "      <td>0.35</td>\n",
       "      <td>2.70</td>\n",
       "    </tr>\n",
       "    <tr>\n",
       "      <th>1</th>\n",
       "      <td>2</td>\n",
       "      <td>AAADX</td>\n",
       "      <td>Aberdeen Income Builder A</td>\n",
       "      <td>Large Blend</td>\n",
       "      <td>Aberdeen</td>\n",
       "      <td>Value</td>\n",
       "      <td>Large</td>\n",
       "      <td>9980000</td>\n",
       "      <td>USD</td>\n",
       "      <td>1.44</td>\n",
       "      <td>...</td>\n",
       "      <td>NaN</td>\n",
       "      <td>NaN</td>\n",
       "      <td>NaN</td>\n",
       "      <td>3</td>\n",
       "      <td>-4.84</td>\n",
       "      <td>1.00</td>\n",
       "      <td>0.51</td>\n",
       "      <td>10.62</td>\n",
       "      <td>0.51</td>\n",
       "      <td>5.04</td>\n",
       "    </tr>\n",
       "    <tr>\n",
       "      <th>2</th>\n",
       "      <td>3</td>\n",
       "      <td>AAAGX</td>\n",
       "      <td>Thrivent Large Cap Growth A</td>\n",
       "      <td>Large Growth</td>\n",
       "      <td>Thrivent</td>\n",
       "      <td>Growth</td>\n",
       "      <td>Large</td>\n",
       "      <td>997620000</td>\n",
       "      <td>USD</td>\n",
       "      <td>1.20</td>\n",
       "      <td>...</td>\n",
       "      <td>17.79</td>\n",
       "      <td>-6.29</td>\n",
       "      <td>9.70</td>\n",
       "      <td>4</td>\n",
       "      <td>1.04</td>\n",
       "      <td>1.10</td>\n",
       "      <td>1.08</td>\n",
       "      <td>12.91</td>\n",
       "      <td>0.96</td>\n",
       "      <td>11.15</td>\n",
       "    </tr>\n",
       "    <tr>\n",
       "      <th>3</th>\n",
       "      <td>4</td>\n",
       "      <td>AAAIX</td>\n",
       "      <td>American Century Strat Allc: Agrsv I</td>\n",
       "      <td>Allocation--70% to 85% Equity</td>\n",
       "      <td>American Century Investments</td>\n",
       "      <td>Growth</td>\n",
       "      <td>Large</td>\n",
       "      <td>907850000</td>\n",
       "      <td>USD</td>\n",
       "      <td>0.91</td>\n",
       "      <td>...</td>\n",
       "      <td>15.09</td>\n",
       "      <td>-1.67</td>\n",
       "      <td>15.62</td>\n",
       "      <td>3</td>\n",
       "      <td>-0.77</td>\n",
       "      <td>1.34</td>\n",
       "      <td>0.59</td>\n",
       "      <td>8.61</td>\n",
       "      <td>0.74</td>\n",
       "      <td>4.60</td>\n",
       "    </tr>\n",
       "    <tr>\n",
       "      <th>4</th>\n",
       "      <td>5</td>\n",
       "      <td>AAANX</td>\n",
       "      <td>Horizon Active Asset Allocation Investor</td>\n",
       "      <td>Tactical Allocation</td>\n",
       "      <td>Horizon Investments</td>\n",
       "      <td>Blend</td>\n",
       "      <td>Large</td>\n",
       "      <td>451260000</td>\n",
       "      <td>USD</td>\n",
       "      <td>1.36</td>\n",
       "      <td>...</td>\n",
       "      <td>NaN</td>\n",
       "      <td>NaN</td>\n",
       "      <td>NaN</td>\n",
       "      <td>4</td>\n",
       "      <td>-1.87</td>\n",
       "      <td>1.64</td>\n",
       "      <td>0.62</td>\n",
       "      <td>10.79</td>\n",
       "      <td>0.63</td>\n",
       "      <td>3.94</td>\n",
       "    </tr>\n",
       "  </tbody>\n",
       "</table>\n",
       "<p>5 rows × 56 columns</p>\n",
       "</div>"
      ],
      "text/plain": [
       "   Serial Number fund_symbol                                 fund_name  \\\n",
       "0              1       AAAAX                    Deutsche Real Assets A   \n",
       "1              2       AAADX                 Aberdeen Income Builder A   \n",
       "2              3       AAAGX               Thrivent Large Cap Growth A   \n",
       "3              4       AAAIX      American Century Strat Allc: Agrsv I   \n",
       "4              5       AAANX  Horizon Active Asset Allocation Investor   \n",
       "\n",
       "                        category                   fund_family investment  \\\n",
       "0               World Allocation     Deutsche Asset Management      Blend   \n",
       "1                    Large Blend                      Aberdeen      Value   \n",
       "2                   Large Growth                      Thrivent     Growth   \n",
       "3  Allocation--70% to 85% Equity  American Century Investments     Growth   \n",
       "4            Tactical Allocation           Horizon Investments      Blend   \n",
       "\n",
       "    size  total_net_assets currency  net_annual_expenses_ratio  \\\n",
       "0  Large         486740000      USD                       1.22   \n",
       "1  Large           9980000      USD                       1.44   \n",
       "2  Large         997620000      USD                       1.20   \n",
       "3  Large         907850000      USD                       0.91   \n",
       "4  Large         451260000      USD                       1.36   \n",
       "\n",
       "         ...         returns_2012 returns_2011  returns_2010  \\\n",
       "0        ...                 9.32        -3.46         12.20   \n",
       "1        ...                  NaN          NaN           NaN   \n",
       "2        ...                17.79        -6.29          9.70   \n",
       "3        ...                15.09        -1.67         15.62   \n",
       "4        ...                  NaN          NaN           NaN   \n",
       "\n",
       "   morningstar_risk_rating  alpha_3y  beta_3y  mean_annual_return_3y  \\\n",
       "0                        3     -1.96     0.84                   0.26   \n",
       "1                        3     -4.84     1.00                   0.51   \n",
       "2                        4      1.04     1.10                   1.08   \n",
       "3                        3     -0.77     1.34                   0.59   \n",
       "4                        4     -1.87     1.64                   0.62   \n",
       "\n",
       "   standard_deviation_3y  sharpe_ratio_3y  treynor_ratio_3y  \n",
       "0                   7.16             0.35              2.70  \n",
       "1                  10.62             0.51              5.04  \n",
       "2                  12.91             0.96             11.15  \n",
       "3                   8.61             0.74              4.60  \n",
       "4                  10.79             0.63              3.94  \n",
       "\n",
       "[5 rows x 56 columns]"
      ]
     },
     "execution_count": 4,
     "metadata": {},
     "output_type": "execute_result"
    }
   ],
   "source": [
    "mdf.head()"
   ]
  },
  {
   "cell_type": "code",
   "execution_count": 5,
   "metadata": {},
   "outputs": [
    {
     "name": "stdout",
     "output_type": "stream",
     "text": [
      "<class 'pandas.core.frame.DataFrame'>\n",
      "RangeIndex: 17773 entries, 0 to 17772\n",
      "Data columns (total 56 columns):\n",
      "Serial Number                     17773 non-null int64\n",
      "fund_symbol                       17773 non-null object\n",
      "fund_name                         17773 non-null object\n",
      "category                          17773 non-null object\n",
      "fund_family                       17773 non-null object\n",
      "investment                        16783 non-null object\n",
      "size                              16783 non-null object\n",
      "total_net_assets                  17773 non-null int64\n",
      "currency                          17773 non-null object\n",
      "net_annual_expenses_ratio         17761 non-null float64\n",
      "morningstar_rating                17773 non-null int64\n",
      "inception_date                    17773 non-null object\n",
      "portfolio_cash                    17768 non-null float64\n",
      "portfolio_stocks                  17768 non-null float64\n",
      "portfolio_bonds                   17768 non-null float64\n",
      "portfolio_others                  17768 non-null float64\n",
      "portfolio_preferred               17768 non-null float64\n",
      "portfolio_convertable             17768 non-null float64\n",
      "sectors_basic_materials           17768 non-null float64\n",
      "sectors_consumer_cyclical         17768 non-null float64\n",
      "sectors_financial_services        17768 non-null float64\n",
      "sectors_real_estate               17768 non-null float64\n",
      "sectors_consumer_defensive        17768 non-null float64\n",
      "sectors_healthcare                17768 non-null float64\n",
      "sectors_utilities                 17768 non-null float64\n",
      "sectors_communication_services    17768 non-null float64\n",
      "sectors_energy                    17768 non-null float64\n",
      "sectors_industrials               17768 non-null float64\n",
      "sectors_technology                17768 non-null float64\n",
      "price_earning                     17768 non-null float64\n",
      "bonds_us_government               17768 non-null float64\n",
      "bonds_aaa                         17768 non-null float64\n",
      "bonds_aa                          17768 non-null float64\n",
      "bonds_a                           17768 non-null float64\n",
      "bonds_bbb                         17768 non-null float64\n",
      "bonds_bb                          17768 non-null float64\n",
      "bonds_b                           17768 non-null float64\n",
      "bonds_below_b                     17768 non-null float64\n",
      "bonds_others                      17768 non-null float64\n",
      "morningstar_return_rating         17773 non-null int64\n",
      "returns_ytd                       17657 non-null float64\n",
      "returns_2017                      15879 non-null float64\n",
      "returns_2016                      14872 non-null float64\n",
      "returns_2015                      13662 non-null float64\n",
      "returns_2014                      12536 non-null float64\n",
      "returns_2013                      11409 non-null float64\n",
      "returns_2012                      10337 non-null float64\n",
      "returns_2011                      9492 non-null float64\n",
      "returns_2010                      8665 non-null float64\n",
      "morningstar_risk_rating           17773 non-null int64\n",
      "alpha_3y                          15933 non-null float64\n",
      "beta_3y                           15933 non-null float64\n",
      "mean_annual_return_3y             15933 non-null float64\n",
      "standard_deviation_3y             15933 non-null float64\n",
      "sharpe_ratio_3y                   15933 non-null float64\n",
      "treynor_ratio_3y                  15933 non-null float64\n",
      "dtypes: float64(43), int64(5), object(8)\n",
      "memory usage: 7.6+ MB\n"
     ]
    }
   ],
   "source": [
    "mdf.info()"
   ]
  },
  {
   "cell_type": "code",
   "execution_count": 6,
   "metadata": {},
   "outputs": [
    {
     "data": {
      "text/plain": [
       "(17773, 56)"
      ]
     },
     "execution_count": 6,
     "metadata": {},
     "output_type": "execute_result"
    }
   ],
   "source": [
    "mdf.shape"
   ]
  },
  {
   "cell_type": "code",
   "execution_count": 7,
   "metadata": {},
   "outputs": [
    {
     "data": {
      "text/plain": [
       "(17773, 56)"
      ]
     },
     "execution_count": 7,
     "metadata": {},
     "output_type": "execute_result"
    }
   ],
   "source": [
    "# Removing rows and columns which have all null values\n",
    "mdf.dropna(axis = 1, how = 'all', inplace = True)\n",
    "mdf.dropna(how='all', inplace=True)\n",
    "mdf.shape"
   ]
  },
  {
   "cell_type": "code",
   "execution_count": 8,
   "metadata": {},
   "outputs": [
    {
     "data": {
      "text/plain": [
       "Serial Number                      0.00\n",
       "fund_symbol                        0.00\n",
       "fund_name                          0.00\n",
       "category                           0.00\n",
       "fund_family                        0.00\n",
       "investment                         5.57\n",
       "size                               5.57\n",
       "total_net_assets                   0.00\n",
       "currency                           0.00\n",
       "net_annual_expenses_ratio          0.07\n",
       "morningstar_rating                 0.00\n",
       "inception_date                     0.00\n",
       "portfolio_cash                     0.03\n",
       "portfolio_stocks                   0.03\n",
       "portfolio_bonds                    0.03\n",
       "portfolio_others                   0.03\n",
       "portfolio_preferred                0.03\n",
       "portfolio_convertable              0.03\n",
       "sectors_basic_materials            0.03\n",
       "sectors_consumer_cyclical          0.03\n",
       "sectors_financial_services         0.03\n",
       "sectors_real_estate                0.03\n",
       "sectors_consumer_defensive         0.03\n",
       "sectors_healthcare                 0.03\n",
       "sectors_utilities                  0.03\n",
       "sectors_communication_services     0.03\n",
       "sectors_energy                     0.03\n",
       "sectors_industrials                0.03\n",
       "sectors_technology                 0.03\n",
       "price_earning                      0.03\n",
       "bonds_us_government                0.03\n",
       "bonds_aaa                          0.03\n",
       "bonds_aa                           0.03\n",
       "bonds_a                            0.03\n",
       "bonds_bbb                          0.03\n",
       "bonds_bb                           0.03\n",
       "bonds_b                            0.03\n",
       "bonds_below_b                      0.03\n",
       "bonds_others                       0.03\n",
       "morningstar_return_rating          0.00\n",
       "returns_ytd                        0.65\n",
       "returns_2017                      10.66\n",
       "returns_2016                      16.32\n",
       "returns_2015                      23.13\n",
       "returns_2014                      29.47\n",
       "returns_2013                      35.81\n",
       "returns_2012                      41.84\n",
       "returns_2011                      46.59\n",
       "returns_2010                      51.25\n",
       "morningstar_risk_rating            0.00\n",
       "alpha_3y                          10.35\n",
       "beta_3y                           10.35\n",
       "mean_annual_return_3y             10.35\n",
       "standard_deviation_3y             10.35\n",
       "sharpe_ratio_3y                   10.35\n",
       "treynor_ratio_3y                  10.35\n",
       "dtype: float64"
      ]
     },
     "execution_count": 8,
     "metadata": {},
     "output_type": "execute_result"
    }
   ],
   "source": [
    "round(mdf.isnull().sum()*100/len(mdf),2)"
   ]
  },
  {
   "cell_type": "code",
   "execution_count": 9,
   "metadata": {},
   "outputs": [],
   "source": [
    "def impute_with_mode(data, cols):\n",
    "    for column in cols:\n",
    "        data[column].fillna(data[column].mode()[0], inplace=True)"
   ]
  },
  {
   "cell_type": "code",
   "execution_count": 10,
   "metadata": {},
   "outputs": [],
   "source": [
    "impute_with_mode(mdf, ['investment','size'])"
   ]
  },
  {
   "cell_type": "code",
   "execution_count": 11,
   "metadata": {},
   "outputs": [
    {
     "data": {
      "text/plain": [
       "portfolio_cash                    5\n",
       "portfolio_stocks                  5\n",
       "portfolio_bonds                   5\n",
       "portfolio_others                  5\n",
       "portfolio_preferred               5\n",
       "portfolio_convertable             5\n",
       "sectors_basic_materials           5\n",
       "sectors_consumer_cyclical         5\n",
       "sectors_financial_services        5\n",
       "sectors_real_estate               5\n",
       "sectors_consumer_defensive        5\n",
       "sectors_healthcare                5\n",
       "sectors_utilities                 5\n",
       "sectors_communication_services    5\n",
       "sectors_energy                    5\n",
       "sectors_industrials               5\n",
       "sectors_technology                5\n",
       "price_earning                     5\n",
       "bonds_us_government               5\n",
       "bonds_aaa                         5\n",
       "bonds_aa                          5\n",
       "bonds_a                           5\n",
       "bonds_bbb                         5\n",
       "bonds_bb                          5\n",
       "bonds_b                           5\n",
       "bonds_below_b                     5\n",
       "bonds_others                      5\n",
       "dtype: int64"
      ]
     },
     "execution_count": 11,
     "metadata": {},
     "output_type": "execute_result"
    }
   ],
   "source": [
    "mdf[['portfolio_cash','portfolio_stocks','portfolio_bonds','portfolio_others','portfolio_preferred','portfolio_convertable','sectors_basic_materials','sectors_consumer_cyclical','sectors_financial_services','sectors_real_estate','sectors_consumer_defensive','sectors_healthcare','sectors_utilities','sectors_communication_services','sectors_energy','sectors_industrials','sectors_technology','price_earning','bonds_us_government','bonds_aaa','bonds_aa','bonds_a','bonds_bbb','bonds_bb','bonds_b','bonds_below_b','bonds_others']].isnull().sum()"
   ]
  },
  {
   "cell_type": "code",
   "execution_count": 12,
   "metadata": {},
   "outputs": [],
   "source": [
    "mdf = mdf[np.isfinite(mdf['bonds_aaa'])]"
   ]
  },
  {
   "cell_type": "code",
   "execution_count": 13,
   "metadata": {},
   "outputs": [],
   "source": [
    "CAT = 'categorical'\n",
    "NUM = 'numerical'\n",
    "\n",
    "def get_col_type(col):\n",
    "    cols = mdf.columns\n",
    "    num_cols = mdf._get_numeric_data().columns\n",
    "    if(col in num_cols):\n",
    "        if('night_pck'==col[0:9] or 'fb_user'==col[0:7]):\n",
    "            return CAT\n",
    "        else:\n",
    "            return NUM\n",
    "    else:\n",
    "        return CAT\n",
    "    \n",
    "def generate_null_dataframe(data):\n",
    "    null_df = pd.DataFrame(data.isnull().sum()*100/len(data), columns=['na_perc'])\n",
    "    null_df['column'] = null_df.index\n",
    "    null_df.index = range(0,len(null_df['column']))\n",
    "    null_df['col_type'] = null_df['column'].map(get_col_type)\n",
    "    null_df = null_df[null_df.na_perc > 0]\n",
    "    return null_df"
   ]
  },
  {
   "cell_type": "code",
   "execution_count": 15,
   "metadata": {},
   "outputs": [
    {
     "name": "stderr",
     "output_type": "stream",
     "text": [
      "D:\\ProgramData\\Anaconda3\\lib\\site-packages\\h5py\\__init__.py:36: FutureWarning: Conversion of the second argument of issubdtype from `float` to `np.floating` is deprecated. In future, it will be treated as `np.float64 == np.dtype(float).type`.\n",
      "  from ._conv import register_converters as _register_converters\n",
      "Using TensorFlow backend.\n",
      "D:\\ProgramData\\Anaconda3\\lib\\site-packages\\pandas\\core\\indexing.py:537: SettingWithCopyWarning: \n",
      "A value is trying to be set on a copy of a slice from a DataFrame.\n",
      "Try using .loc[row_indexer,col_indexer] = value instead\n",
      "\n",
      "See the caveats in the documentation: http://pandas.pydata.org/pandas-docs/stable/indexing.html#indexing-view-versus-copy\n",
      "  self.obj[item] = s\n",
      "D:\\ProgramData\\Anaconda3\\lib\\site-packages\\pandas\\core\\indexing.py:194: SettingWithCopyWarning: \n",
      "A value is trying to be set on a copy of a slice from a DataFrame\n",
      "\n",
      "See the caveats in the documentation: http://pandas.pydata.org/pandas-docs/stable/indexing.html#indexing-view-versus-copy\n",
      "  self._setitem_with_indexer(indexer, value)\n",
      "D:\\ProgramData\\Anaconda3\\lib\\site-packages\\ipykernel_launcher.py:7: SettingWithCopyWarning: \n",
      "A value is trying to be set on a copy of a slice from a DataFrame\n",
      "\n",
      "See the caveats in the documentation: http://pandas.pydata.org/pandas-docs/stable/indexing.html#indexing-view-versus-copy\n",
      "  import sys\n"
     ]
    }
   ],
   "source": [
    "from fancyimpute import KNN\n",
    "from concurrent.futures import ThreadPoolExecutor\n",
    "\n",
    "executor = ThreadPoolExecutor(max_workers=30)\n",
    "data_num = mdf[mdf._get_numeric_data().columns]\n",
    "def knn_impute(i,j,data_num):\n",
    "    data_num.iloc[j:i] = KNN(k=10, verbose=False).complete(data_num.iloc[j:i])\n",
    "j=0\n",
    "for i in range(1000,len(data_num),1000):\n",
    "    executor.submit(knn_impute,i,j,data_num)\n",
    "    j = i\n",
    "executor.shutdown(wait=True)"
   ]
  },
  {
   "cell_type": "code",
   "execution_count": 16,
   "metadata": {},
   "outputs": [
    {
     "data": {
      "text/plain": [
       "(17768, 48)"
      ]
     },
     "execution_count": 16,
     "metadata": {},
     "output_type": "execute_result"
    }
   ],
   "source": [
    "data_num.shape"
   ]
  },
  {
   "cell_type": "code",
   "execution_count": 17,
   "metadata": {},
   "outputs": [
    {
     "data": {
      "text/plain": [
       "(17768, 56)"
      ]
     },
     "execution_count": 17,
     "metadata": {},
     "output_type": "execute_result"
    }
   ],
   "source": [
    "mdf.shape"
   ]
  },
  {
   "cell_type": "code",
   "execution_count": 18,
   "metadata": {},
   "outputs": [],
   "source": [
    "mdf.loc[:,['net_annual_expenses_ratio','returns_ytd','returns_2017','returns_2016','returns_2015','returns_2014','returns_2013','returns_2012','returns_2011','returns_2010','alpha_3y','beta_3y','mean_annual_return_3y','standard_deviation_3y','sharpe_ratio_3y','treynor_ratio_3y']]=data_num.loc[:,['net_annual_expenses_ratio','returns_ytd','returns_2017','returns_2016','returns_2015','returns_2014','returns_2013','returns_2012','returns_2011','returns_2010','alpha_3y','beta_3y','mean_annual_return_3y','standard_deviation_3y','sharpe_ratio_3y','treynor_ratio_3y']]"
   ]
  },
  {
   "cell_type": "code",
   "execution_count": 19,
   "metadata": {},
   "outputs": [
    {
     "data": {
      "text/html": [
       "<div>\n",
       "<style scoped>\n",
       "    .dataframe tbody tr th:only-of-type {\n",
       "        vertical-align: middle;\n",
       "    }\n",
       "\n",
       "    .dataframe tbody tr th {\n",
       "        vertical-align: top;\n",
       "    }\n",
       "\n",
       "    .dataframe thead th {\n",
       "        text-align: right;\n",
       "    }\n",
       "</style>\n",
       "<table border=\"1\" class=\"dataframe\">\n",
       "  <thead>\n",
       "    <tr style=\"text-align: right;\">\n",
       "      <th></th>\n",
       "      <th>Serial Number</th>\n",
       "      <th>fund_symbol</th>\n",
       "      <th>fund_name</th>\n",
       "      <th>category</th>\n",
       "      <th>fund_family</th>\n",
       "      <th>investment</th>\n",
       "      <th>size</th>\n",
       "      <th>total_net_assets</th>\n",
       "      <th>currency</th>\n",
       "      <th>net_annual_expenses_ratio</th>\n",
       "      <th>...</th>\n",
       "      <th>returns_2012</th>\n",
       "      <th>returns_2011</th>\n",
       "      <th>returns_2010</th>\n",
       "      <th>morningstar_risk_rating</th>\n",
       "      <th>alpha_3y</th>\n",
       "      <th>beta_3y</th>\n",
       "      <th>mean_annual_return_3y</th>\n",
       "      <th>standard_deviation_3y</th>\n",
       "      <th>sharpe_ratio_3y</th>\n",
       "      <th>treynor_ratio_3y</th>\n",
       "    </tr>\n",
       "  </thead>\n",
       "  <tbody>\n",
       "    <tr>\n",
       "      <th>0</th>\n",
       "      <td>1</td>\n",
       "      <td>AAAAX</td>\n",
       "      <td>Deutsche Real Assets A</td>\n",
       "      <td>World Allocation</td>\n",
       "      <td>Deutsche Asset Management</td>\n",
       "      <td>Blend</td>\n",
       "      <td>Large</td>\n",
       "      <td>486740000</td>\n",
       "      <td>USD</td>\n",
       "      <td>1.22</td>\n",
       "      <td>...</td>\n",
       "      <td>9.320000</td>\n",
       "      <td>-3.460000</td>\n",
       "      <td>12.200000</td>\n",
       "      <td>3</td>\n",
       "      <td>-1.96</td>\n",
       "      <td>0.84</td>\n",
       "      <td>0.26</td>\n",
       "      <td>7.16</td>\n",
       "      <td>0.35</td>\n",
       "      <td>2.70</td>\n",
       "    </tr>\n",
       "    <tr>\n",
       "      <th>1</th>\n",
       "      <td>2</td>\n",
       "      <td>AAADX</td>\n",
       "      <td>Aberdeen Income Builder A</td>\n",
       "      <td>Large Blend</td>\n",
       "      <td>Aberdeen</td>\n",
       "      <td>Value</td>\n",
       "      <td>Large</td>\n",
       "      <td>9980000</td>\n",
       "      <td>USD</td>\n",
       "      <td>1.44</td>\n",
       "      <td>...</td>\n",
       "      <td>12.640002</td>\n",
       "      <td>0.639997</td>\n",
       "      <td>13.940002</td>\n",
       "      <td>3</td>\n",
       "      <td>-4.84</td>\n",
       "      <td>1.00</td>\n",
       "      <td>0.51</td>\n",
       "      <td>10.62</td>\n",
       "      <td>0.51</td>\n",
       "      <td>5.04</td>\n",
       "    </tr>\n",
       "    <tr>\n",
       "      <th>2</th>\n",
       "      <td>3</td>\n",
       "      <td>AAAGX</td>\n",
       "      <td>Thrivent Large Cap Growth A</td>\n",
       "      <td>Large Growth</td>\n",
       "      <td>Thrivent</td>\n",
       "      <td>Growth</td>\n",
       "      <td>Large</td>\n",
       "      <td>997620000</td>\n",
       "      <td>USD</td>\n",
       "      <td>1.20</td>\n",
       "      <td>...</td>\n",
       "      <td>17.790000</td>\n",
       "      <td>-6.290000</td>\n",
       "      <td>9.700000</td>\n",
       "      <td>4</td>\n",
       "      <td>1.04</td>\n",
       "      <td>1.10</td>\n",
       "      <td>1.08</td>\n",
       "      <td>12.91</td>\n",
       "      <td>0.96</td>\n",
       "      <td>11.15</td>\n",
       "    </tr>\n",
       "    <tr>\n",
       "      <th>3</th>\n",
       "      <td>4</td>\n",
       "      <td>AAAIX</td>\n",
       "      <td>American Century Strat Allc: Agrsv I</td>\n",
       "      <td>Allocation--70% to 85% Equity</td>\n",
       "      <td>American Century Investments</td>\n",
       "      <td>Growth</td>\n",
       "      <td>Large</td>\n",
       "      <td>907850000</td>\n",
       "      <td>USD</td>\n",
       "      <td>0.91</td>\n",
       "      <td>...</td>\n",
       "      <td>15.090000</td>\n",
       "      <td>-1.670000</td>\n",
       "      <td>15.620000</td>\n",
       "      <td>3</td>\n",
       "      <td>-0.77</td>\n",
       "      <td>1.34</td>\n",
       "      <td>0.59</td>\n",
       "      <td>8.61</td>\n",
       "      <td>0.74</td>\n",
       "      <td>4.60</td>\n",
       "    </tr>\n",
       "    <tr>\n",
       "      <th>4</th>\n",
       "      <td>5</td>\n",
       "      <td>AAANX</td>\n",
       "      <td>Horizon Active Asset Allocation Investor</td>\n",
       "      <td>Tactical Allocation</td>\n",
       "      <td>Horizon Investments</td>\n",
       "      <td>Blend</td>\n",
       "      <td>Large</td>\n",
       "      <td>451260000</td>\n",
       "      <td>USD</td>\n",
       "      <td>1.36</td>\n",
       "      <td>...</td>\n",
       "      <td>16.941936</td>\n",
       "      <td>-11.910626</td>\n",
       "      <td>15.850406</td>\n",
       "      <td>4</td>\n",
       "      <td>-1.87</td>\n",
       "      <td>1.64</td>\n",
       "      <td>0.62</td>\n",
       "      <td>10.79</td>\n",
       "      <td>0.63</td>\n",
       "      <td>3.94</td>\n",
       "    </tr>\n",
       "  </tbody>\n",
       "</table>\n",
       "<p>5 rows × 56 columns</p>\n",
       "</div>"
      ],
      "text/plain": [
       "   Serial Number fund_symbol                                 fund_name  \\\n",
       "0              1       AAAAX                    Deutsche Real Assets A   \n",
       "1              2       AAADX                 Aberdeen Income Builder A   \n",
       "2              3       AAAGX               Thrivent Large Cap Growth A   \n",
       "3              4       AAAIX      American Century Strat Allc: Agrsv I   \n",
       "4              5       AAANX  Horizon Active Asset Allocation Investor   \n",
       "\n",
       "                        category                   fund_family investment  \\\n",
       "0               World Allocation     Deutsche Asset Management      Blend   \n",
       "1                    Large Blend                      Aberdeen      Value   \n",
       "2                   Large Growth                      Thrivent     Growth   \n",
       "3  Allocation--70% to 85% Equity  American Century Investments     Growth   \n",
       "4            Tactical Allocation           Horizon Investments      Blend   \n",
       "\n",
       "    size  total_net_assets currency  net_annual_expenses_ratio  \\\n",
       "0  Large         486740000      USD                       1.22   \n",
       "1  Large           9980000      USD                       1.44   \n",
       "2  Large         997620000      USD                       1.20   \n",
       "3  Large         907850000      USD                       0.91   \n",
       "4  Large         451260000      USD                       1.36   \n",
       "\n",
       "         ...         returns_2012 returns_2011  returns_2010  \\\n",
       "0        ...             9.320000    -3.460000     12.200000   \n",
       "1        ...            12.640002     0.639997     13.940002   \n",
       "2        ...            17.790000    -6.290000      9.700000   \n",
       "3        ...            15.090000    -1.670000     15.620000   \n",
       "4        ...            16.941936   -11.910626     15.850406   \n",
       "\n",
       "   morningstar_risk_rating  alpha_3y  beta_3y  mean_annual_return_3y  \\\n",
       "0                        3     -1.96     0.84                   0.26   \n",
       "1                        3     -4.84     1.00                   0.51   \n",
       "2                        4      1.04     1.10                   1.08   \n",
       "3                        3     -0.77     1.34                   0.59   \n",
       "4                        4     -1.87     1.64                   0.62   \n",
       "\n",
       "   standard_deviation_3y  sharpe_ratio_3y  treynor_ratio_3y  \n",
       "0                   7.16             0.35              2.70  \n",
       "1                  10.62             0.51              5.04  \n",
       "2                  12.91             0.96             11.15  \n",
       "3                   8.61             0.74              4.60  \n",
       "4                  10.79             0.63              3.94  \n",
       "\n",
       "[5 rows x 56 columns]"
      ]
     },
     "execution_count": 19,
     "metadata": {},
     "output_type": "execute_result"
    }
   ],
   "source": [
    "mdf.head()"
   ]
  },
  {
   "cell_type": "code",
   "execution_count": 20,
   "metadata": {},
   "outputs": [],
   "source": [
    "mdf = mdf[np.isfinite(mdf['net_annual_expenses_ratio'])]"
   ]
  },
  {
   "cell_type": "code",
   "execution_count": 21,
   "metadata": {},
   "outputs": [
    {
     "data": {
      "text/plain": [
       "Serial Number                     0.00\n",
       "fund_symbol                       0.00\n",
       "fund_name                         0.00\n",
       "category                          0.00\n",
       "fund_family                       0.00\n",
       "investment                        0.00\n",
       "size                              0.00\n",
       "total_net_assets                  0.00\n",
       "currency                          0.00\n",
       "net_annual_expenses_ratio         0.00\n",
       "morningstar_rating                0.00\n",
       "inception_date                    0.00\n",
       "portfolio_cash                    0.00\n",
       "portfolio_stocks                  0.00\n",
       "portfolio_bonds                   0.00\n",
       "portfolio_others                  0.00\n",
       "portfolio_preferred               0.00\n",
       "portfolio_convertable             0.00\n",
       "sectors_basic_materials           0.00\n",
       "sectors_consumer_cyclical         0.00\n",
       "sectors_financial_services        0.00\n",
       "sectors_real_estate               0.00\n",
       "sectors_consumer_defensive        0.00\n",
       "sectors_healthcare                0.00\n",
       "sectors_utilities                 0.00\n",
       "sectors_communication_services    0.00\n",
       "sectors_energy                    0.00\n",
       "sectors_industrials               0.00\n",
       "sectors_technology                0.00\n",
       "price_earning                     0.00\n",
       "bonds_us_government               0.00\n",
       "bonds_aaa                         0.00\n",
       "bonds_aa                          0.00\n",
       "bonds_a                           0.00\n",
       "bonds_bbb                         0.00\n",
       "bonds_bb                          0.00\n",
       "bonds_b                           0.00\n",
       "bonds_below_b                     0.00\n",
       "bonds_others                      0.00\n",
       "morningstar_return_rating         0.00\n",
       "returns_ytd                       0.02\n",
       "returns_2017                      0.55\n",
       "returns_2016                      0.73\n",
       "returns_2015                      0.94\n",
       "returns_2014                      1.06\n",
       "returns_2013                      1.31\n",
       "returns_2012                      1.48\n",
       "returns_2011                      1.65\n",
       "returns_2010                      1.80\n",
       "morningstar_risk_rating           0.00\n",
       "alpha_3y                          0.61\n",
       "beta_3y                           0.61\n",
       "mean_annual_return_3y             0.61\n",
       "standard_deviation_3y             0.61\n",
       "sharpe_ratio_3y                   0.61\n",
       "treynor_ratio_3y                  0.61\n",
       "dtype: float64"
      ]
     },
     "execution_count": 21,
     "metadata": {},
     "output_type": "execute_result"
    }
   ],
   "source": [
    "round(mdf.isnull().sum()*100/len(mdf),2)"
   ]
  },
  {
   "cell_type": "code",
   "execution_count": 22,
   "metadata": {},
   "outputs": [],
   "source": [
    "mdf_non_na = mdf.dropna(axis=0, how='any')"
   ]
  },
  {
   "cell_type": "code",
   "execution_count": 23,
   "metadata": {},
   "outputs": [
    {
     "data": {
      "text/plain": [
       "Serial Number                     0.0\n",
       "fund_symbol                       0.0\n",
       "fund_name                         0.0\n",
       "category                          0.0\n",
       "fund_family                       0.0\n",
       "investment                        0.0\n",
       "size                              0.0\n",
       "total_net_assets                  0.0\n",
       "currency                          0.0\n",
       "net_annual_expenses_ratio         0.0\n",
       "morningstar_rating                0.0\n",
       "inception_date                    0.0\n",
       "portfolio_cash                    0.0\n",
       "portfolio_stocks                  0.0\n",
       "portfolio_bonds                   0.0\n",
       "portfolio_others                  0.0\n",
       "portfolio_preferred               0.0\n",
       "portfolio_convertable             0.0\n",
       "sectors_basic_materials           0.0\n",
       "sectors_consumer_cyclical         0.0\n",
       "sectors_financial_services        0.0\n",
       "sectors_real_estate               0.0\n",
       "sectors_consumer_defensive        0.0\n",
       "sectors_healthcare                0.0\n",
       "sectors_utilities                 0.0\n",
       "sectors_communication_services    0.0\n",
       "sectors_energy                    0.0\n",
       "sectors_industrials               0.0\n",
       "sectors_technology                0.0\n",
       "price_earning                     0.0\n",
       "bonds_us_government               0.0\n",
       "bonds_aaa                         0.0\n",
       "bonds_aa                          0.0\n",
       "bonds_a                           0.0\n",
       "bonds_bbb                         0.0\n",
       "bonds_bb                          0.0\n",
       "bonds_b                           0.0\n",
       "bonds_below_b                     0.0\n",
       "bonds_others                      0.0\n",
       "morningstar_return_rating         0.0\n",
       "returns_ytd                       0.0\n",
       "returns_2017                      0.0\n",
       "returns_2016                      0.0\n",
       "returns_2015                      0.0\n",
       "returns_2014                      0.0\n",
       "returns_2013                      0.0\n",
       "returns_2012                      0.0\n",
       "returns_2011                      0.0\n",
       "returns_2010                      0.0\n",
       "morningstar_risk_rating           0.0\n",
       "alpha_3y                          0.0\n",
       "beta_3y                           0.0\n",
       "mean_annual_return_3y             0.0\n",
       "standard_deviation_3y             0.0\n",
       "sharpe_ratio_3y                   0.0\n",
       "treynor_ratio_3y                  0.0\n",
       "dtype: float64"
      ]
     },
     "execution_count": 23,
     "metadata": {},
     "output_type": "execute_result"
    }
   ],
   "source": [
    "round(mdf_non_na.isnull().sum()*100/len(mdf),2)"
   ]
  },
  {
   "cell_type": "code",
   "execution_count": 24,
   "metadata": {},
   "outputs": [
    {
     "data": {
      "text/plain": [
       "(17434, 56)"
      ]
     },
     "execution_count": 24,
     "metadata": {},
     "output_type": "execute_result"
    }
   ],
   "source": [
    "mdf_non_na.shape"
   ]
  },
  {
   "cell_type": "code",
   "execution_count": 25,
   "metadata": {},
   "outputs": [
    {
     "data": {
      "text/plain": [
       "(17756, 56)"
      ]
     },
     "execution_count": 25,
     "metadata": {},
     "output_type": "execute_result"
    }
   ],
   "source": [
    "mdf.shape"
   ]
  },
  {
   "cell_type": "code",
   "execution_count": 26,
   "metadata": {},
   "outputs": [
    {
     "data": {
      "text/plain": [
       "<matplotlib.axes._subplots.AxesSubplot at 0x18586f60>"
      ]
     },
     "execution_count": 26,
     "metadata": {},
     "output_type": "execute_result"
    },
    {
     "data": {
      "image/png": "[encoded data removed]",
      "text/plain": [
       "<matplotlib.figure.Figure at 0x185a0b70>"
      ]
     },
     "metadata": {},
     "output_type": "display_data"
    }
   ],
   "source": [
    "plt.figure(figsize=(15,15))\n",
    "# Create correlation matrix\n",
    "corr = mdf_non_na.corr()\n",
    "sns.set(font_scale=1)\n",
    "sns.heatmap(corr, cmap=\"YlGnBu\", annot=False)"
   ]
  },
  {
   "cell_type": "code",
   "execution_count": 27,
   "metadata": {},
   "outputs": [
    {
     "name": "stdout",
     "output_type": "stream",
     "text": [
      "<class 'pandas.core.frame.DataFrame'>\n",
      "Int64Index: 17434 entries, 0 to 17767\n",
      "Data columns (total 56 columns):\n",
      "Serial Number                     17434 non-null int64\n",
      "fund_symbol                       17434 non-null object\n",
      "fund_name                         17434 non-null object\n",
      "category                          17434 non-null object\n",
      "fund_family                       17434 non-null object\n",
      "investment                        17434 non-null object\n",
      "size                              17434 non-null object\n",
      "total_net_assets                  17434 non-null int64\n",
      "currency                          17434 non-null object\n",
      "net_annual_expenses_ratio         17434 non-null float64\n",
      "morningstar_rating                17434 non-null int64\n",
      "inception_date                    17434 non-null object\n",
      "portfolio_cash                    17434 non-null float64\n",
      "portfolio_stocks                  17434 non-null float64\n",
      "portfolio_bonds                   17434 non-null float64\n",
      "portfolio_others                  17434 non-null float64\n",
      "portfolio_preferred               17434 non-null float64\n",
      "portfolio_convertable             17434 non-null float64\n",
      "sectors_basic_materials           17434 non-null float64\n",
      "sectors_consumer_cyclical         17434 non-null float64\n",
      "sectors_financial_services        17434 non-null float64\n",
      "sectors_real_estate               17434 non-null float64\n",
      "sectors_consumer_defensive        17434 non-null float64\n",
      "sectors_healthcare                17434 non-null float64\n",
      "sectors_utilities                 17434 non-null float64\n",
      "sectors_communication_services    17434 non-null float64\n",
      "sectors_energy                    17434 non-null float64\n",
      "sectors_industrials               17434 non-null float64\n",
      "sectors_technology                17434 non-null float64\n",
      "price_earning                     17434 non-null float64\n",
      "bonds_us_government               17434 non-null float64\n",
      "bonds_aaa                         17434 non-null float64\n",
      "bonds_aa                          17434 non-null float64\n",
      "bonds_a                           17434 non-null float64\n",
      "bonds_bbb                         17434 non-null float64\n",
      "bonds_bb                          17434 non-null float64\n",
      "bonds_b                           17434 non-null float64\n",
      "bonds_below_b                     17434 non-null float64\n",
      "bonds_others                      17434 non-null float64\n",
      "morningstar_return_rating         17434 non-null int64\n",
      "returns_ytd                       17434 non-null float64\n",
      "returns_2017                      17434 non-null float64\n",
      "returns_2016                      17434 non-null float64\n",
      "returns_2015                      17434 non-null float64\n",
      "returns_2014                      17434 non-null float64\n",
      "returns_2013                      17434 non-null float64\n",
      "returns_2012                      17434 non-null float64\n",
      "returns_2011                      17434 non-null float64\n",
      "returns_2010                      17434 non-null float64\n",
      "morningstar_risk_rating           17434 non-null int64\n",
      "alpha_3y                          17434 non-null float64\n",
      "beta_3y                           17434 non-null float64\n",
      "mean_annual_return_3y             17434 non-null float64\n",
      "standard_deviation_3y             17434 non-null float64\n",
      "sharpe_ratio_3y                   17434 non-null float64\n",
      "treynor_ratio_3y                  17434 non-null float64\n",
      "dtypes: float64(43), int64(5), object(8)\n",
      "memory usage: 7.6+ MB\n"
     ]
    }
   ],
   "source": [
    "mdf_non_na.info()"
   ]
  },
  {
   "cell_type": "code",
   "execution_count": 28,
   "metadata": {},
   "outputs": [
    {
     "data": {
      "text/plain": [
       "Index(['category', 'currency', 'fund_family', 'fund_name', 'fund_symbol',\n",
       "       'inception_date', 'investment', 'size'],\n",
       "      dtype='object')"
      ]
     },
     "execution_count": 28,
     "metadata": {},
     "output_type": "execute_result"
    }
   ],
   "source": [
    "cols = mdf.columns\n",
    "num_cols = mdf._get_numeric_data().columns\n",
    "cats = cols.difference(num_cols)\n",
    "cats"
   ]
  },
  {
   "cell_type": "markdown",
   "metadata": {},
   "source": [
    "## Converting categorical features to numerical for linear regression."
   ]
  },
  {
   "cell_type": "markdown",
   "metadata": {},
   "source": [
    "Drop currency as it is same for all rows"
   ]
  },
  {
   "cell_type": "code",
   "execution_count": 29,
   "metadata": {},
   "outputs": [
    {
     "name": "stderr",
     "output_type": "stream",
     "text": [
      "D:\\ProgramData\\Anaconda3\\lib\\site-packages\\ipykernel_launcher.py:1: SettingWithCopyWarning: \n",
      "A value is trying to be set on a copy of a slice from a DataFrame\n",
      "\n",
      "See the caveats in the documentation: http://pandas.pydata.org/pandas-docs/stable/indexing.html#indexing-view-versus-copy\n",
      "  \"\"\"Entry point for launching an IPython kernel.\n"
     ]
    }
   ],
   "source": [
    "mdf_non_na.drop('currency',axis=1,inplace=True)"
   ]
  },
  {
   "cell_type": "markdown",
   "metadata": {},
   "source": [
    "### One hot encoding for categorical columns with less cardinality"
   ]
  },
  {
   "cell_type": "code",
   "execution_count": 30,
   "metadata": {},
   "outputs": [],
   "source": [
    "cols_to_transform = ['investment', 'size']\n",
    "mdf_num = pd.get_dummies( data = mdf_non_na, columns = cols_to_transform ,drop_first=True)"
   ]
  },
  {
   "cell_type": "code",
   "execution_count": 31,
   "metadata": {},
   "outputs": [
    {
     "data": {
      "text/plain": [
       "(17434, 57)"
      ]
     },
     "execution_count": 31,
     "metadata": {},
     "output_type": "execute_result"
    }
   ],
   "source": [
    "mdf_num.shape"
   ]
  },
  {
   "cell_type": "markdown",
   "metadata": {},
   "source": [
    "category, fund_family, fund_name, fund_symbol, inception_date is left"
   ]
  },
  {
   "cell_type": "markdown",
   "metadata": {},
   "source": [
    "fund name and fund symbol have different values for each row so dropping them since they don't add much value"
   ]
  },
  {
   "cell_type": "code",
   "execution_count": 32,
   "metadata": {},
   "outputs": [
    {
     "data": {
      "text/plain": [
       "3392"
      ]
     },
     "execution_count": 32,
     "metadata": {},
     "output_type": "execute_result"
    }
   ],
   "source": [
    "mdf_num.inception_date.nunique()"
   ]
  },
  {
   "cell_type": "code",
   "execution_count": 33,
   "metadata": {},
   "outputs": [],
   "source": [
    "mdf_num.drop(columns=['fund_name','fund_symbol'], axis=1, inplace=True)"
   ]
  },
  {
   "cell_type": "code",
   "execution_count": 34,
   "metadata": {},
   "outputs": [],
   "source": [
    "from sklearn.preprocessing import LabelEncoder\n",
    "\n",
    "lb_category = LabelEncoder()\n",
    "lb_fund_family = LabelEncoder()\n",
    "mdf_num[\"category\"] = lb_category.fit_transform(mdf_num[\"category\"])\n",
    "mdf_num[\"fund_family\"] = lb_fund_family.fit_transform(mdf_num[\"fund_family\"])"
   ]
  },
  {
   "cell_type": "markdown",
   "metadata": {},
   "source": [
    "Lets convert the inception date as the offset from the earliest date"
   ]
  },
  {
   "cell_type": "code",
   "execution_count": 35,
   "metadata": {},
   "outputs": [],
   "source": [
    "mdf_num[\"inception_date\"] = pd.to_datetime(mdf_num[\"inception_date\"])"
   ]
  },
  {
   "cell_type": "code",
   "execution_count": 36,
   "metadata": {},
   "outputs": [
    {
     "data": {
      "text/plain": [
       "Timestamp('1924-07-14 00:00:00')"
      ]
     },
     "execution_count": 36,
     "metadata": {},
     "output_type": "execute_result"
    }
   ],
   "source": [
    "mdf_num[\"inception_date\"].min()"
   ]
  },
  {
   "cell_type": "code",
   "execution_count": 37,
   "metadata": {},
   "outputs": [],
   "source": [
    "from datetime import datetime\n",
    "import math\n",
    "def convert_to_date_delta(d):\n",
    "    start_date = datetime(1924,7,7)\n",
    "    delta = (d-start_date).days\n",
    "    return delta"
   ]
  },
  {
   "cell_type": "code",
   "execution_count": 38,
   "metadata": {},
   "outputs": [],
   "source": [
    "mdf_num[\"inception_date_delta\"] = mdf_num[\"inception_date\"].apply(lambda x: convert_to_date_delta(x))"
   ]
  },
  {
   "cell_type": "code",
   "execution_count": 39,
   "metadata": {},
   "outputs": [],
   "source": [
    "mdf_num.drop('inception_date', axis=1, inplace=True)"
   ]
  },
  {
   "cell_type": "markdown",
   "metadata": {},
   "source": [
    "## Read in test data and see what columns are missing in test data"
   ]
  },
  {
   "cell_type": "code",
   "execution_count": 40,
   "metadata": {},
   "outputs": [],
   "source": [
    "mdf_test = pd.read_csv('Yes_Bank_Test_Data.csv', encoding='palmos')"
   ]
  },
  {
   "cell_type": "code",
   "execution_count": 41,
   "metadata": {},
   "outputs": [
    {
     "data": {
      "text/plain": [
       "Index(['currency', 'fund_name', 'fund_symbol', 'inception_date', 'investment',\n",
       "       'net_annual_expenses', 'size'],\n",
       "      dtype='object')"
      ]
     },
     "execution_count": 41,
     "metadata": {},
     "output_type": "execute_result"
    }
   ],
   "source": [
    "mdf_test.columns.difference(mdf_num.columns)"
   ]
  },
  {
   "cell_type": "code",
   "execution_count": 42,
   "metadata": {},
   "outputs": [],
   "source": [
    "mdf_num.drop(['bonds_a', 'bonds_aa', 'bonds_b', 'bonds_bb', 'bonds_bbb',\n",
    "       'bonds_below_b', 'bonds_others'], inplace=True, axis=1)"
   ]
  },
  {
   "cell_type": "code",
   "execution_count": 43,
   "metadata": {},
   "outputs": [],
   "source": [
    "mdf_test[\"inception_date\"] = pd.to_datetime(mdf_test[\"inception_date\"])"
   ]
  },
  {
   "cell_type": "code",
   "execution_count": 44,
   "metadata": {},
   "outputs": [],
   "source": [
    "mdf_test.rename(columns={'net_annual_expenses':'net_annual_expenses_ratio'}, inplace=True)"
   ]
  },
  {
   "cell_type": "code",
   "execution_count": 45,
   "metadata": {},
   "outputs": [],
   "source": [
    "mdf_test[\"inception_date_delta\"] = mdf_test[\"inception_date\"].apply(lambda x: convert_to_date_delta(x))"
   ]
  },
  {
   "cell_type": "code",
   "execution_count": 46,
   "metadata": {},
   "outputs": [],
   "source": [
    "mdf_test.drop('inception_date', axis=1, inplace=True)"
   ]
  },
  {
   "cell_type": "code",
   "execution_count": 47,
   "metadata": {},
   "outputs": [],
   "source": [
    "mdf_test.drop('currency',axis=1,inplace=True)"
   ]
  },
  {
   "cell_type": "markdown",
   "metadata": {},
   "source": [
    "### One hot encoding for categorical columns with less cardinality"
   ]
  },
  {
   "cell_type": "code",
   "execution_count": 48,
   "metadata": {},
   "outputs": [],
   "source": [
    "cols_to_transform = ['investment', 'size']\n",
    "mdf_test = pd.get_dummies( data = mdf_test, columns = cols_to_transform ,drop_first=True)"
   ]
  },
  {
   "cell_type": "code",
   "execution_count": 49,
   "metadata": {},
   "outputs": [],
   "source": [
    "mdf_test[\"category\"] = lb_category.fit_transform(mdf_test[\"category\"])\n",
    "mdf_test[\"fund_family\"] = lb_fund_family.fit_transform(mdf_test[\"fund_family\"])"
   ]
  },
  {
   "cell_type": "code",
   "execution_count": 50,
   "metadata": {},
   "outputs": [],
   "source": [
    "mdf_test.drop(['fund_name', 'fund_symbol'], axis=1, inplace=True)"
   ]
  },
  {
   "cell_type": "code",
   "execution_count": 51,
   "metadata": {},
   "outputs": [
    {
     "data": {
      "text/plain": [
       "(7621, 47)"
      ]
     },
     "execution_count": 51,
     "metadata": {},
     "output_type": "execute_result"
    }
   ],
   "source": [
    "mdf_test.shape"
   ]
  },
  {
   "cell_type": "code",
   "execution_count": 52,
   "metadata": {},
   "outputs": [
    {
     "data": {
      "text/plain": [
       "(17434, 48)"
      ]
     },
     "execution_count": 52,
     "metadata": {},
     "output_type": "execute_result"
    }
   ],
   "source": [
    "mdf_num.shape"
   ]
  },
  {
   "cell_type": "code",
   "execution_count": 53,
   "metadata": {},
   "outputs": [
    {
     "data": {
      "text/plain": [
       "0.0"
      ]
     },
     "execution_count": 53,
     "metadata": {},
     "output_type": "execute_result"
    }
   ],
   "source": [
    "mdf_num['bonds_us_government'].sum()"
   ]
  },
  {
   "cell_type": "markdown",
   "metadata": {},
   "source": [
    "All values are 0 drop this column"
   ]
  },
  {
   "cell_type": "code",
   "execution_count": 54,
   "metadata": {},
   "outputs": [],
   "source": [
    "mdf_num.drop('bonds_us_government', inplace=True, axis=1)\n",
    "mdf_test.drop('bonds_us_government', inplace=True, axis=1)"
   ]
  },
  {
   "cell_type": "code",
   "execution_count": 140,
   "metadata": {},
   "outputs": [],
   "source": [
    "mdf_num.drop('Serial Number', inplace=True, axis=1)\n",
    "mdf_test.drop('Serial Number', inplace=True, axis=1)"
   ]
  },
  {
   "cell_type": "markdown",
   "metadata": {},
   "source": [
    "# Some more pre-processing before modelling"
   ]
  },
  {
   "cell_type": "code",
   "execution_count": 141,
   "metadata": {},
   "outputs": [],
   "source": [
    "# make X and y dataframes with independent and dependent columns respectively\n",
    "X = mdf_num.loc[:, mdf_num.columns != 'bonds_aaa']\n",
    "Y = mdf_non_na['bonds_aaa']"
   ]
  },
  {
   "cell_type": "markdown",
   "metadata": {},
   "source": [
    "### Standardisation"
   ]
  },
  {
   "cell_type": "code",
   "execution_count": 142,
   "metadata": {},
   "outputs": [],
   "source": [
    "X=(X-X.mean())/X.std()"
   ]
  },
  {
   "cell_type": "code",
   "execution_count": 143,
   "metadata": {},
   "outputs": [],
   "source": [
    "# Splitting the data into Test and Train\n",
    "\n",
    "from sklearn.model_selection import train_test_split\n",
    "X_train, X_test, Y_train,  Y_test = train_test_split(X, Y, train_size = 0.7, test_size = 0.3, random_state=100)\n"
   ]
  },
  {
   "cell_type": "markdown",
   "metadata": {},
   "source": [
    "## Test and Train dataset"
   ]
  },
  {
   "cell_type": "markdown",
   "metadata": {},
   "source": [
    "# Building various models"
   ]
  },
  {
   "cell_type": "markdown",
   "metadata": {},
   "source": [
    "Training the model using statsmodels Ordinary Least Squares Regression Technique"
   ]
  },
  {
   "cell_type": "code",
   "execution_count": 144,
   "metadata": {},
   "outputs": [],
   "source": [
    "\"\"\" A function that formulates the linear regression model for a the input training dataset\n",
    "@Author Aryan Singh\n",
    "\"\"\"\n",
    "def linear_reg(y_train, X_train):\n",
    "\n",
    "    #Constitute a Linear Regression Model\n",
    "    lm_1 = sm.OLS(y_train,X_train).fit()\n",
    "\n",
    "    #Visualise the results of the model\n",
    "    print(lm_1.summary())\n",
    "    return lm_1"
   ]
  },
  {
   "cell_type": "code",
   "execution_count": 145,
   "metadata": {},
   "outputs": [
    {
     "name": "stdout",
     "output_type": "stream",
     "text": [
      "                            OLS Regression Results                            \n",
      "==============================================================================\n",
      "Dep. Variable:              bonds_aaa   R-squared:                       0.263\n",
      "Model:                            OLS   Adj. R-squared:                  0.260\n",
      "Method:                 Least Squares   F-statistic:                     96.23\n",
      "Date:                Sun, 21 Oct 2018   Prob (F-statistic):               0.00\n",
      "Time:                        12:08:19   Log-Likelihood:                -55558.\n",
      "No. Observations:               12203   AIC:                         1.112e+05\n",
      "Df Residuals:                   12158   BIC:                         1.115e+05\n",
      "Df Model:                          45                                         \n",
      "Covariance Type:            nonrobust                                         \n",
      "==================================================================================================\n",
      "                                     coef    std err          t      P>|t|      [0.025      0.975]\n",
      "--------------------------------------------------------------------------------------------------\n",
      "category                           1.6431      0.223      7.358      0.000       1.205       2.081\n",
      "fund_family                       -0.1902      0.212     -0.896      0.370      -0.606       0.226\n",
      "total_net_assets                   1.0887      0.210      5.180      0.000       0.677       1.501\n",
      "net_annual_expenses_ratio         -2.5518      0.235    -10.837      0.000      -3.013      -2.090\n",
      "morningstar_rating                -0.1231      0.808     -0.152      0.879      -1.707       1.461\n",
      "portfolio_cash                     0.9519      0.470      2.026      0.043       0.031       1.873\n",
      "portfolio_stocks                   0.4462      1.457      0.306      0.759      -2.410       3.302\n",
      "portfolio_bonds                   10.3312      1.335      7.737      0.000       7.714      12.949\n",
      "portfolio_others                   1.3627      0.302      4.512      0.000       0.771       1.955\n",
      "portfolio_preferred               -0.9574      0.263     -3.638      0.000      -1.473      -0.442\n",
      "portfolio_convertable             -0.2459      0.287     -0.855      0.392      -0.809       0.318\n",
      "sectors_basic_materials            0.8625      0.244      3.541      0.000       0.385       1.340\n",
      "sectors_consumer_cyclical          0.0118      0.243      0.048      0.962      -0.466       0.489\n",
      "sectors_financial_services         2.7981      0.269     10.397      0.000       2.271       3.326\n",
      "sectors_real_estate                1.8749      0.297      6.308      0.000       1.292       2.458\n",
      "sectors_consumer_defensive         0.9014      0.266      3.382      0.001       0.379       1.424\n",
      "sectors_healthcare                 1.7594      0.272      6.478      0.000       1.227       2.292\n",
      "sectors_utilities                  0.3194      0.224      1.426      0.154      -0.120       0.759\n",
      "sectors_communication_services     0.0670      0.225      0.298      0.766      -0.373       0.507\n",
      "sectors_energy                     0.0792      0.237      0.334      0.739      -0.386       0.545\n",
      "sectors_industrials                0.1031      0.246      0.419      0.675      -0.379       0.585\n",
      "sectors_technology                 1.9457      0.359      5.418      0.000       1.242       2.650\n",
      "price_earning                     -0.1291      0.346     -0.373      0.709      -0.807       0.549\n",
      "morningstar_return_rating          2.6128      0.863      3.028      0.002       0.922       4.304\n",
      "returns_ytd                        0.8561      0.346      2.474      0.013       0.178       1.534\n",
      "returns_2017                      -0.5472      0.504     -1.086      0.277      -1.535       0.440\n",
      "returns_2016                       0.9283      0.424      2.187      0.029       0.096       1.760\n",
      "returns_2015                       1.2705      0.377      3.373      0.001       0.532       2.009\n",
      "returns_2014                      -1.4123      0.302     -4.673      0.000      -2.005      -0.820\n",
      "returns_2013                      -1.4807      0.369     -4.013      0.000      -2.204      -0.757\n",
      "returns_2012                      -2.9649      0.293    -10.132      0.000      -3.539      -2.391\n",
      "returns_2011                      -0.6894      0.306     -2.255      0.024      -1.289      -0.090\n",
      "returns_2010                       2.2982      0.287      7.994      0.000       1.735       2.862\n",
      "morningstar_risk_rating           -0.2516      0.293     -0.860      0.390      -0.825       0.322\n",
      "alpha_3y                          -2.4170      0.397     -6.095      0.000      -3.194      -1.640\n",
      "beta_3y                            2.2241      0.233      9.535      0.000       1.767       2.681\n",
      "mean_annual_return_3y              3.6501      0.661      5.521      0.000       2.354       4.946\n",
      "standard_deviation_3y             -6.4078      0.447    -14.348      0.000      -7.283      -5.532\n",
      "sharpe_ratio_3y                   -6.2866      0.371    -16.967      0.000      -7.013      -5.560\n",
      "treynor_ratio_3y                  -0.2117      0.186     -1.137      0.256      -0.577       0.153\n",
      "investment_Growth                 -0.8837      0.282     -3.131      0.002      -1.437      -0.330\n",
      "investment_Value                  -1.1958      0.241     -4.958      0.000      -1.669      -0.723\n",
      "size_Medium                       -2.6490      0.252    -10.500      0.000      -3.144      -2.154\n",
      "size_Small                        -2.7418      0.260    -10.543      0.000      -3.252      -2.232\n",
      "inception_date_delta               0.2495      0.225      1.109      0.268      -0.192       0.691\n",
      "==============================================================================\n",
      "Omnibus:                     2619.687   Durbin-Watson:                   1.415\n",
      "Prob(Omnibus):                  0.000   Jarque-Bera (JB):             6016.361\n",
      "Skew:                           1.216   Prob(JB):                         0.00\n",
      "Kurtosis:                       5.433   Cond. No.                         27.1\n",
      "==============================================================================\n",
      "\n",
      "Warnings:\n",
      "[1] Standard Errors assume that the covariance matrix of the errors is correctly specified.\n"
     ]
    }
   ],
   "source": [
    "lm_model = linear_reg(Y_train,X_train)"
   ]
  },
  {
   "cell_type": "markdown",
   "metadata": {},
   "source": [
    "## SVM"
   ]
  },
  {
   "cell_type": "code",
   "execution_count": 143,
   "metadata": {},
   "outputs": [],
   "source": [
    "from sklearn.metrics import r2_score\n",
    "from sklearn.svm import SVR\n",
    "svr_rbf = SVR(kernel='rbf', C=1e3, gamma=0.1)\n",
    "y_rbf = svr_rbf.fit(X_train, Y_train)"
   ]
  },
  {
   "cell_type": "code",
   "execution_count": 144,
   "metadata": {},
   "outputs": [
    {
     "data": {
      "text/plain": [
       "0.8803689097788704"
      ]
     },
     "execution_count": 144,
     "metadata": {},
     "output_type": "execute_result"
    }
   ],
   "source": [
    "Y_pred = svr_rbf.predict(X_test)\n",
    "r2_score(Y_test,Y_pred)"
   ]
  },
  {
   "cell_type": "markdown",
   "metadata": {},
   "source": [
    "## Random Forrest"
   ]
  },
  {
   "cell_type": "code",
   "execution_count": 146,
   "metadata": {},
   "outputs": [
    {
     "data": {
      "text/plain": [
       "RandomForestRegressor(bootstrap=True, criterion='mse', max_depth=None,\n",
       "           max_features='auto', max_leaf_nodes=None,\n",
       "           min_impurity_decrease=0.0, min_impurity_split=None,\n",
       "           min_samples_leaf=5, min_samples_split=2,\n",
       "           min_weight_fraction_leaf=0.0, n_estimators=100, n_jobs=-1,\n",
       "           oob_score=False, random_state=0, verbose=0, warm_start=False)"
      ]
     },
     "execution_count": 146,
     "metadata": {},
     "output_type": "execute_result"
    }
   ],
   "source": [
    "from sklearn.ensemble import RandomForestRegressor\n",
    "regr = RandomForestRegressor(min_samples_leaf=5, random_state=0,n_estimators=100,n_jobs=-1)\n",
    "regr.fit(X_train, Y_train)"
   ]
  },
  {
   "cell_type": "code",
   "execution_count": 147,
   "metadata": {},
   "outputs": [
    {
     "data": {
      "text/plain": [
       "0.8588808791075637"
      ]
     },
     "execution_count": 147,
     "metadata": {},
     "output_type": "execute_result"
    }
   ],
   "source": [
    "Y_pred = regr.predict(X_test)\n",
    "r2_score(Y_test,Y_pred)"
   ]
  },
  {
   "cell_type": "markdown",
   "metadata": {},
   "source": [
    "## XGBoost Regression"
   ]
  },
  {
   "cell_type": "code",
   "execution_count": 148,
   "metadata": {},
   "outputs": [],
   "source": [
    "import xgboost\n",
    "xgb = xgboost.XGBRegressor(n_estimators=200, learning_rate=0.05, gamma=1, subsample=0.75,colsample_bytree=1, max_depth=10, n_jobs=-1)"
   ]
  },
  {
   "cell_type": "code",
   "execution_count": 149,
   "metadata": {},
   "outputs": [
    {
     "data": {
      "text/plain": [
       "XGBRegressor(base_score=0.5, booster='gbtree', colsample_bylevel=1,\n",
       "       colsample_bytree=1, gamma=1, learning_rate=0.05, max_delta_step=0,\n",
       "       max_depth=10, min_child_weight=1, missing=None, n_estimators=200,\n",
       "       n_jobs=-1, nthread=None, objective='reg:linear', random_state=0,\n",
       "       reg_alpha=0, reg_lambda=1, scale_pos_weight=1, seed=None,\n",
       "       silent=True, subsample=0.75)"
      ]
     },
     "execution_count": 149,
     "metadata": {},
     "output_type": "execute_result"
    }
   ],
   "source": [
    "xgb.fit(X_train, Y_train)"
   ]
  },
  {
   "cell_type": "code",
   "execution_count": 150,
   "metadata": {},
   "outputs": [
    {
     "data": {
      "text/plain": [
       "0.9144644095404854"
      ]
     },
     "execution_count": 150,
     "metadata": {},
     "output_type": "execute_result"
    }
   ],
   "source": [
    "Y_pred = xgb.predict(X_test)\n",
    "r2_score(Y_test,Y_pred)"
   ]
  },
  {
   "cell_type": "code",
   "execution_count": 102,
   "metadata": {},
   "outputs": [
    {
     "data": {
      "text/plain": [
       "0.9210930105884184"
      ]
     },
     "execution_count": 102,
     "metadata": {},
     "output_type": "execute_result"
    }
   ],
   "source": [
    "Y_pred = xgb.predict(X_test)\n",
    "r2_score(Y_test,Y_pred)"
   ]
  },
  {
   "cell_type": "code",
   "execution_count": 103,
   "metadata": {},
   "outputs": [],
   "source": [
    "import warnings\n",
    "warnings.filterwarnings('ignore')\n",
    "import numpy as np\n",
    "import pandas as pd\n",
    "from datetime import datetime\n",
    "from sklearn.model_selection import RandomizedSearchCV, GridSearchCV\n",
    "from sklearn.metrics import r2_score\n",
    "from sklearn.model_selection import StratifiedKFold"
   ]
  },
  {
   "cell_type": "code",
   "execution_count": 104,
   "metadata": {},
   "outputs": [],
   "source": [
    "def timer(start_time=None):\n",
    "    if not start_time:\n",
    "        start_time = datetime.now()\n",
    "        return start_time\n",
    "    elif start_time:\n",
    "        thour, temp_sec = divmod((datetime.now() - start_time).total_seconds(), 3600)\n",
    "        tmin, tsec = divmod(temp_sec, 60)\n",
    "        print('\\n Time taken: %i hours %i minutes and %s seconds.' % (thour, tmin, round(tsec, 2)))"
   ]
  },
  {
   "cell_type": "code",
   "execution_count": 112,
   "metadata": {},
   "outputs": [],
   "source": [
    "params = {\n",
    "        'n_estimators': [50, 100, 200, 300],\n",
    "        'gamma': [0, 0.5, 1, 1.5, 2],\n",
    "        'subsample': [0.6, 0.8, 1.0],\n",
    "        'colsample_bytree': [0.6, 0.8, 1.0],\n",
    "        'max_depth': [5, 10,15,20],\n",
    "        'learning_rate':[0.05,0.08,0.1],\n",
    "        'min_child_weight':[4,5,6]\n",
    "        }"
   ]
  },
  {
   "cell_type": "code",
   "execution_count": null,
   "metadata": {},
   "outputs": [],
   "source": [
    "random_search = RandomizedSearchCV(xgb, param_distributions=params, scoring='explained_variance', n_jobs=-1, cv=5, verbose=3, random_state=100 )\n",
    "\n",
    "# Here we go\n",
    "start_time = timer(None) # timing starts from this point for \"start_time\" variable\n",
    "random_search.fit(X, Y)\n",
    "timer(start_time) # timing ends here for \"start_time\" variable"
   ]
  },
  {
   "cell_type": "code",
   "execution_count": 114,
   "metadata": {},
   "outputs": [
    {
     "data": {
      "text/plain": [
       "([mean: 0.53551, std: 0.04700, params: {'subsample': 0.6, 'n_estimators': 50, 'min_child_weight': 6, 'max_depth': 5, 'learning_rate': 0.05, 'gamma': 1.5, 'colsample_bytree': 1.0},\n",
       "  mean: 0.60224, std: 0.06228, params: {'subsample': 0.6, 'n_estimators': 100, 'min_child_weight': 5, 'max_depth': 10, 'learning_rate': 0.1, 'gamma': 1.5, 'colsample_bytree': 1.0},\n",
       "  mean: 0.61556, std: 0.06698, params: {'subsample': 0.6, 'n_estimators': 100, 'min_child_weight': 4, 'max_depth': 10, 'learning_rate': 0.05, 'gamma': 2, 'colsample_bytree': 0.8},\n",
       "  mean: 0.64121, std: 0.06221, params: {'subsample': 0.8, 'n_estimators': 200, 'min_child_weight': 4, 'max_depth': 15, 'learning_rate': 0.05, 'gamma': 0, 'colsample_bytree': 0.6},\n",
       "  mean: 0.55528, std: 0.06160, params: {'subsample': 1.0, 'n_estimators': 50, 'min_child_weight': 5, 'max_depth': 20, 'learning_rate': 0.1, 'gamma': 1.5, 'colsample_bytree': 1.0},\n",
       "  mean: 0.61718, std: 0.06056, params: {'subsample': 1.0, 'n_estimators': 50, 'min_child_weight': 6, 'max_depth': 10, 'learning_rate': 0.1, 'gamma': 0, 'colsample_bytree': 0.6},\n",
       "  mean: 0.57217, std: 0.07445, params: {'subsample': 1.0, 'n_estimators': 200, 'min_child_weight': 5, 'max_depth': 5, 'learning_rate': 0.05, 'gamma': 2, 'colsample_bytree': 1.0},\n",
       "  mean: 0.60237, std: 0.07671, params: {'subsample': 0.6, 'n_estimators': 200, 'min_child_weight': 5, 'max_depth': 5, 'learning_rate': 0.08, 'gamma': 2, 'colsample_bytree': 0.6},\n",
       "  mean: 0.62385, std: 0.06693, params: {'subsample': 0.6, 'n_estimators': 300, 'min_child_weight': 4, 'max_depth': 20, 'learning_rate': 0.08, 'gamma': 2, 'colsample_bytree': 0.8},\n",
       "  mean: 0.60274, std: 0.04883, params: {'subsample': 0.8, 'n_estimators': 300, 'min_child_weight': 4, 'max_depth': 15, 'learning_rate': 0.05, 'gamma': 1.5, 'colsample_bytree': 1.0}],\n",
       " {'colsample_bytree': 0.6,\n",
       "  'gamma': 0,\n",
       "  'learning_rate': 0.05,\n",
       "  'max_depth': 15,\n",
       "  'min_child_weight': 4,\n",
       "  'n_estimators': 200,\n",
       "  'subsample': 0.8},\n",
       " 0.6412128079102427)"
      ]
     },
     "execution_count": 114,
     "metadata": {},
     "output_type": "execute_result"
    }
   ],
   "source": [
    "random_search.grid_scores_, random_search.best_params_, random_search.best_score_"
   ]
  },
  {
   "cell_type": "code",
   "execution_count": 151,
   "metadata": {},
   "outputs": [],
   "source": [
    "xgb2 = xgboost.XGBRegressor(n_estimators=200, learning_rate=0.05, gamma=1, subsample=0.8,colsample_bytree=0.6, max_depth=15, n_jobs=-1)"
   ]
  },
  {
   "cell_type": "code",
   "execution_count": 152,
   "metadata": {},
   "outputs": [
    {
     "data": {
      "text/plain": [
       "XGBRegressor(base_score=0.5, booster='gbtree', colsample_bylevel=1,\n",
       "       colsample_bytree=0.6, gamma=1, learning_rate=0.05, max_delta_step=0,\n",
       "       max_depth=15, min_child_weight=1, missing=None, n_estimators=200,\n",
       "       n_jobs=-1, nthread=None, objective='reg:linear', random_state=0,\n",
       "       reg_alpha=0, reg_lambda=1, scale_pos_weight=1, seed=None,\n",
       "       silent=True, subsample=0.8)"
      ]
     },
     "execution_count": 152,
     "metadata": {},
     "output_type": "execute_result"
    }
   ],
   "source": [
    "xgb2.fit(X_train, Y_train)"
   ]
  },
  {
   "cell_type": "code",
   "execution_count": 153,
   "metadata": {},
   "outputs": [
    {
     "data": {
      "text/plain": [
       "0.9190116746070732"
      ]
     },
     "execution_count": 153,
     "metadata": {},
     "output_type": "execute_result"
    }
   ],
   "source": [
    "Y_pred = xgb2.predict(X_test)\n",
    "r2_score(Y_test,Y_pred)"
   ]
  },
  {
   "cell_type": "markdown",
   "metadata": {},
   "source": [
    "Let's predict for test dataset"
   ]
  },
  {
   "cell_type": "code",
   "execution_count": 154,
   "metadata": {},
   "outputs": [
    {
     "data": {
      "text/plain": [
       "category                          0.0\n",
       "fund_family                       0.0\n",
       "total_net_assets                  0.0\n",
       "net_annual_expenses_ratio         0.0\n",
       "morningstar_rating                0.0\n",
       "portfolio_cash                    0.0\n",
       "portfolio_stocks                  0.0\n",
       "portfolio_bonds                   0.0\n",
       "portfolio_others                  0.0\n",
       "portfolio_preferred               0.0\n",
       "portfolio_convertable             0.0\n",
       "sectors_basic_materials           0.0\n",
       "sectors_consumer_cyclical         0.0\n",
       "sectors_financial_services        0.0\n",
       "sectors_real_estate               0.0\n",
       "sectors_consumer_defensive        0.0\n",
       "sectors_healthcare                0.0\n",
       "sectors_utilities                 0.0\n",
       "sectors_communication_services    0.0\n",
       "sectors_energy                    0.0\n",
       "sectors_industrials               0.0\n",
       "sectors_technology                0.0\n",
       "price_earning                     0.0\n",
       "morningstar_return_rating         0.0\n",
       "returns_ytd                       0.0\n",
       "returns_2017                      0.0\n",
       "returns_2016                      0.0\n",
       "returns_2015                      0.0\n",
       "returns_2014                      0.0\n",
       "returns_2013                      0.0\n",
       "returns_2012                      0.0\n",
       "returns_2011                      0.0\n",
       "returns_2010                      0.0\n",
       "morningstar_risk_rating           0.0\n",
       "alpha_3y                          0.0\n",
       "beta_3y                           0.0\n",
       "mean_annual_return_3y             0.0\n",
       "standard_deviation_3y             0.0\n",
       "sharpe_ratio_3y                   0.0\n",
       "treynor_ratio_3y                  0.0\n",
       "inception_date_delta              0.0\n",
       "investment_Growth                 0.0\n",
       "investment_Value                  0.0\n",
       "size_Medium                       0.0\n",
       "size_Small                        0.0\n",
       "dtype: float64"
      ]
     },
     "execution_count": 154,
     "metadata": {},
     "output_type": "execute_result"
    }
   ],
   "source": [
    "round(mdf_test.isnull().sum()*100/len(mdf),2)"
   ]
  },
  {
   "cell_type": "code",
   "execution_count": 135,
   "metadata": {},
   "outputs": [
    {
     "data": {
      "text/plain": [
       "['returns_ytd',\n",
       " 'returns_2017',\n",
       " 'returns_2016',\n",
       " 'returns_2015',\n",
       " 'returns_2014',\n",
       " 'returns_2013',\n",
       " 'returns_2012',\n",
       " 'returns_2011',\n",
       " 'returns_2010',\n",
       " 'alpha_3y',\n",
       " 'beta_3y',\n",
       " 'mean_annual_return_3y',\n",
       " 'standard_deviation_3y',\n",
       " 'sharpe_ratio_3y',\n",
       " 'treynor_ratio_3y']"
      ]
     },
     "execution_count": 135,
     "metadata": {},
     "output_type": "execute_result"
    }
   ],
   "source": [
    "mdf_test.columns[mdf_test.isna().any()].tolist()"
   ]
  },
  {
   "cell_type": "code",
   "execution_count": 126,
   "metadata": {},
   "outputs": [
    {
     "data": {
      "text/plain": [
       "portfolio_cash                    3\n",
       "portfolio_stocks                  3\n",
       "portfolio_bonds                   3\n",
       "portfolio_others                  3\n",
       "portfolio_preferred               3\n",
       "portfolio_convertable             3\n",
       "sectors_basic_materials           3\n",
       "sectors_consumer_cyclical         3\n",
       "sectors_financial_services        3\n",
       "sectors_real_estate               3\n",
       "sectors_consumer_defensive        3\n",
       "sectors_healthcare                3\n",
       "sectors_utilities                 3\n",
       "sectors_communication_services    3\n",
       "sectors_energy                    3\n",
       "sectors_industrials               3\n",
       "sectors_technology                3\n",
       "price_earning                     3\n",
       "dtype: int64"
      ]
     },
     "execution_count": 126,
     "metadata": {},
     "output_type": "execute_result"
    }
   ],
   "source": [
    "mdf_test[['portfolio_cash','portfolio_stocks','portfolio_bonds','portfolio_others','portfolio_preferred','portfolio_convertable','sectors_basic_materials','sectors_consumer_cyclical','sectors_financial_services','sectors_real_estate','sectors_consumer_defensive','sectors_healthcare','sectors_utilities','sectors_communication_services','sectors_energy','sectors_industrials','sectors_technology','price_earning']].isnull().sum()"
   ]
  },
  {
   "cell_type": "code",
   "execution_count": 134,
   "metadata": {},
   "outputs": [
    {
     "name": "stdout",
     "output_type": "stream",
     "text": [
      "<class 'pandas.core.frame.DataFrame'>\n",
      "RangeIndex: 7621 entries, 0 to 7620\n",
      "Data columns (total 46 columns):\n",
      "Serial Number                     7621 non-null int64\n",
      "category                          7621 non-null int64\n",
      "fund_family                       7621 non-null int64\n",
      "total_net_assets                  7621 non-null int64\n",
      "net_annual_expenses_ratio         7621 non-null float64\n",
      "morningstar_rating                7621 non-null int64\n",
      "portfolio_cash                    7621 non-null float64\n",
      "portfolio_stocks                  7621 non-null float64\n",
      "portfolio_bonds                   7621 non-null float64\n",
      "portfolio_others                  7621 non-null float64\n",
      "portfolio_preferred               7621 non-null float64\n",
      "portfolio_convertable             7621 non-null float64\n",
      "sectors_basic_materials           7621 non-null float64\n",
      "sectors_consumer_cyclical         7621 non-null float64\n",
      "sectors_financial_services        7621 non-null float64\n",
      "sectors_real_estate               7621 non-null float64\n",
      "sectors_consumer_defensive        7621 non-null float64\n",
      "sectors_healthcare                7621 non-null float64\n",
      "sectors_utilities                 7621 non-null float64\n",
      "sectors_communication_services    7621 non-null float64\n",
      "sectors_energy                    7621 non-null float64\n",
      "sectors_industrials               7621 non-null float64\n",
      "sectors_technology                7621 non-null float64\n",
      "price_earning                     7621 non-null float64\n",
      "morningstar_return_rating         7621 non-null int64\n",
      "returns_ytd                       7619 non-null float64\n",
      "returns_2017                      7576 non-null float64\n",
      "returns_2016                      7499 non-null float64\n",
      "returns_2015                      7469 non-null float64\n",
      "returns_2014                      7443 non-null float64\n",
      "returns_2013                      7382 non-null float64\n",
      "returns_2012                      7346 non-null float64\n",
      "returns_2011                      7331 non-null float64\n",
      "returns_2010                      7312 non-null float64\n",
      "morningstar_risk_rating           7621 non-null int64\n",
      "alpha_3y                          7528 non-null float64\n",
      "beta_3y                           7528 non-null float64\n",
      "mean_annual_return_3y             7528 non-null float64\n",
      "standard_deviation_3y             7528 non-null float64\n",
      "sharpe_ratio_3y                   7528 non-null float64\n",
      "treynor_ratio_3y                  7528 non-null float64\n",
      "inception_date_delta              7621 non-null int64\n",
      "investment_Growth                 7621 non-null uint8\n",
      "investment_Value                  7621 non-null uint8\n",
      "size_Medium                       7621 non-null uint8\n",
      "size_Small                        7621 non-null uint8\n",
      "dtypes: float64(34), int64(8), uint8(4)\n",
      "memory usage: 2.5 MB\n"
     ]
    }
   ],
   "source": [
    "mdf_test.info()"
   ]
  },
  {
   "cell_type": "code",
   "execution_count": 128,
   "metadata": {},
   "outputs": [],
   "source": [
    "executor = ThreadPoolExecutor(max_workers=30)\n",
    "data_num = mdf_test[mdf_test._get_numeric_data().columns]\n",
    "j=0\n",
    "for i in range(1000,len(data_num),1000):\n",
    "    executor.submit(knn_impute,i,j,data_num)\n",
    "    j = i\n",
    "executor.shutdown(wait=True)"
   ]
  },
  {
   "cell_type": "code",
   "execution_count": 129,
   "metadata": {},
   "outputs": [
    {
     "data": {
      "text/plain": [
       "(7621, 46)"
      ]
     },
     "execution_count": 129,
     "metadata": {},
     "output_type": "execute_result"
    }
   ],
   "source": [
    "data_num.shape"
   ]
  },
  {
   "cell_type": "code",
   "execution_count": 131,
   "metadata": {},
   "outputs": [
    {
     "data": {
      "text/plain": [
       "(7621, 46)"
      ]
     },
     "execution_count": 131,
     "metadata": {},
     "output_type": "execute_result"
    }
   ],
   "source": [
    "mdf_test.shape"
   ]
  },
  {
   "cell_type": "code",
   "execution_count": 133,
   "metadata": {},
   "outputs": [],
   "source": [
    "mdf_test[['net_annual_expenses_ratio', 'portfolio_cash', 'portfolio_stocks', 'portfolio_bonds', 'portfolio_others', 'portfolio_preferred', 'portfolio_convertable', 'sectors_basic_materials', 'sectors_consumer_cyclical', 'sectors_financial_services', 'sectors_real_estate', 'sectors_consumer_defensive', 'sectors_healthcare', 'sectors_utilities', 'sectors_communication_services', 'sectors_energy', 'sectors_industrials', 'sectors_technology', 'price_earning', 'returns_ytd', 'returns_2017', 'returns_2016', 'returns_2015', 'returns_2014', 'returns_2013', 'returns_2012', 'returns_2011', 'returns_2010', 'alpha_3y', 'beta_3y', 'mean_annual_return_3y', 'standard_deviation_3y', 'sharpe_ratio_3y', 'treynor_ratio_3y']] = data_num[['net_annual_expenses_ratio', 'portfolio_cash', 'portfolio_stocks', 'portfolio_bonds', 'portfolio_others', 'portfolio_preferred', 'portfolio_convertable', 'sectors_basic_materials', 'sectors_consumer_cyclical', 'sectors_financial_services', 'sectors_real_estate', 'sectors_consumer_defensive', 'sectors_healthcare', 'sectors_utilities', 'sectors_communication_services', 'sectors_energy', 'sectors_industrials', 'sectors_technology', 'price_earning', 'returns_ytd', 'returns_2017', 'returns_2016', 'returns_2015', 'returns_2014', 'returns_2013', 'returns_2012', 'returns_2011', 'returns_2010', 'alpha_3y', 'beta_3y', 'mean_annual_return_3y', 'standard_deviation_3y', 'sharpe_ratio_3y', 'treynor_ratio_3y']]"
   ]
  },
  {
   "cell_type": "code",
   "execution_count": 137,
   "metadata": {},
   "outputs": [],
   "source": [
    "mdf_test.fillna(mdf_test.mean(), inplace=True)"
   ]
  },
  {
   "cell_type": "code",
   "execution_count": 155,
   "metadata": {},
   "outputs": [
    {
     "data": {
      "text/plain": [
       "(7621, 45)"
      ]
     },
     "execution_count": 155,
     "metadata": {},
     "output_type": "execute_result"
    }
   ],
   "source": [
    "mdf_test.shape"
   ]
  },
  {
   "cell_type": "code",
   "execution_count": 156,
   "metadata": {},
   "outputs": [
    {
     "data": {
      "text/plain": [
       "(17434, 45)"
      ]
     },
     "execution_count": 156,
     "metadata": {},
     "output_type": "execute_result"
    }
   ],
   "source": [
    "X.shape"
   ]
  },
  {
   "cell_type": "code",
   "execution_count": 157,
   "metadata": {},
   "outputs": [
    {
     "data": {
      "text/plain": [
       "Index(['category', 'fund_family', 'total_net_assets',\n",
       "       'net_annual_expenses_ratio', 'morningstar_rating', 'portfolio_cash',\n",
       "       'portfolio_stocks', 'portfolio_bonds', 'portfolio_others',\n",
       "       'portfolio_preferred', 'portfolio_convertable',\n",
       "       'sectors_basic_materials', 'sectors_consumer_cyclical',\n",
       "       'sectors_financial_services', 'sectors_real_estate',\n",
       "       'sectors_consumer_defensive', 'sectors_healthcare', 'sectors_utilities',\n",
       "       'sectors_communication_services', 'sectors_energy',\n",
       "       'sectors_industrials', 'sectors_technology', 'price_earning',\n",
       "       'morningstar_return_rating', 'returns_ytd', 'returns_2017',\n",
       "       'returns_2016', 'returns_2015', 'returns_2014', 'returns_2013',\n",
       "       'returns_2012', 'returns_2011', 'returns_2010',\n",
       "       'morningstar_risk_rating', 'alpha_3y', 'beta_3y',\n",
       "       'mean_annual_return_3y', 'standard_deviation_3y', 'sharpe_ratio_3y',\n",
       "       'treynor_ratio_3y', 'investment_Growth', 'investment_Value',\n",
       "       'size_Medium', 'size_Small', 'inception_date_delta'],\n",
       "      dtype='object')"
      ]
     },
     "execution_count": 157,
     "metadata": {},
     "output_type": "execute_result"
    }
   ],
   "source": [
    "X.columns"
   ]
  },
  {
   "cell_type": "code",
   "execution_count": 237,
   "metadata": {},
   "outputs": [
    {
     "name": "stdout",
     "output_type": "stream",
     "text": [
      "<class 'pandas.core.frame.DataFrame'>\n",
      "Int64Index: 17434 entries, 0 to 17767\n",
      "Data columns (total 45 columns):\n",
      "category                          17434 non-null float64\n",
      "fund_family                       17434 non-null float64\n",
      "total_net_assets                  17434 non-null float64\n",
      "net_annual_expenses_ratio         17434 non-null float64\n",
      "morningstar_rating                17434 non-null float64\n",
      "portfolio_cash                    17434 non-null float64\n",
      "portfolio_stocks                  17434 non-null float64\n",
      "portfolio_bonds                   17434 non-null float64\n",
      "portfolio_others                  17434 non-null float64\n",
      "portfolio_preferred               17434 non-null float64\n",
      "portfolio_convertable             17434 non-null float64\n",
      "sectors_basic_materials           17434 non-null float64\n",
      "sectors_consumer_cyclical         17434 non-null float64\n",
      "sectors_financial_services        17434 non-null float64\n",
      "sectors_real_estate               17434 non-null float64\n",
      "sectors_consumer_defensive        17434 non-null float64\n",
      "sectors_healthcare                17434 non-null float64\n",
      "sectors_utilities                 17434 non-null float64\n",
      "sectors_communication_services    17434 non-null float64\n",
      "sectors_energy                    17434 non-null float64\n",
      "sectors_industrials               17434 non-null float64\n",
      "sectors_technology                17434 non-null float64\n",
      "price_earning                     17434 non-null float64\n",
      "morningstar_return_rating         17434 non-null float64\n",
      "returns_ytd                       17434 non-null float64\n",
      "returns_2017                      17434 non-null float64\n",
      "returns_2016                      17434 non-null float64\n",
      "returns_2015                      17434 non-null float64\n",
      "returns_2014                      17434 non-null float64\n",
      "returns_2013                      17434 non-null float64\n",
      "returns_2012                      17434 non-null float64\n",
      "returns_2011                      17434 non-null float64\n",
      "returns_2010                      17434 non-null float64\n",
      "morningstar_risk_rating           17434 non-null float64\n",
      "alpha_3y                          17434 non-null float64\n",
      "beta_3y                           17434 non-null float64\n",
      "mean_annual_return_3y             17434 non-null float64\n",
      "standard_deviation_3y             17434 non-null float64\n",
      "sharpe_ratio_3y                   17434 non-null float64\n",
      "treynor_ratio_3y                  17434 non-null float64\n",
      "investment_Growth                 17434 non-null float64\n",
      "investment_Value                  17434 non-null float64\n",
      "size_Medium                       17434 non-null float64\n",
      "size_Small                        17434 non-null float64\n",
      "inception_date_delta              17434 non-null float64\n",
      "dtypes: float64(45)\n",
      "memory usage: 6.7 MB\n"
     ]
    }
   ],
   "source": [
    "X.info()"
   ]
  },
  {
   "cell_type": "code",
   "execution_count": 159,
   "metadata": {},
   "outputs": [],
   "source": [
    "mdf_test = mdf_test[['category', 'fund_family', 'total_net_assets', 'net_annual_expenses_ratio', 'morningstar_rating', 'portfolio_cash', 'portfolio_stocks', 'portfolio_bonds', 'portfolio_others', 'portfolio_preferred', 'portfolio_convertable', 'sectors_basic_materials', 'sectors_consumer_cyclical', 'sectors_financial_services', 'sectors_real_estate', 'sectors_consumer_defensive', 'sectors_healthcare', 'sectors_utilities', 'sectors_communication_services', 'sectors_energy', 'sectors_industrials', 'sectors_technology', 'price_earning', 'morningstar_return_rating', 'returns_ytd', 'returns_2017', 'returns_2016', 'returns_2015', 'returns_2014', 'returns_2013', 'returns_2012', 'returns_2011', 'returns_2010', 'morningstar_risk_rating', 'alpha_3y', 'beta_3y', 'mean_annual_return_3y', 'standard_deviation_3y', 'sharpe_ratio_3y', 'treynor_ratio_3y', 'investment_Growth', 'investment_Value', 'size_Medium', 'size_Small', 'inception_date_delta']]"
   ]
  },
  {
   "cell_type": "code",
   "execution_count": 160,
   "metadata": {},
   "outputs": [
    {
     "data": {
      "text/plain": [
       "Index(['category', 'fund_family', 'total_net_assets',\n",
       "       'net_annual_expenses_ratio', 'morningstar_rating', 'portfolio_cash',\n",
       "       'portfolio_stocks', 'portfolio_bonds', 'portfolio_others',\n",
       "       'portfolio_preferred', 'portfolio_convertable',\n",
       "       'sectors_basic_materials', 'sectors_consumer_cyclical',\n",
       "       'sectors_financial_services', 'sectors_real_estate',\n",
       "       'sectors_consumer_defensive', 'sectors_healthcare', 'sectors_utilities',\n",
       "       'sectors_communication_services', 'sectors_energy',\n",
       "       'sectors_industrials', 'sectors_technology', 'price_earning',\n",
       "       'morningstar_return_rating', 'returns_ytd', 'returns_2017',\n",
       "       'returns_2016', 'returns_2015', 'returns_2014', 'returns_2013',\n",
       "       'returns_2012', 'returns_2011', 'returns_2010',\n",
       "       'morningstar_risk_rating', 'alpha_3y', 'beta_3y',\n",
       "       'mean_annual_return_3y', 'standard_deviation_3y', 'sharpe_ratio_3y',\n",
       "       'treynor_ratio_3y', 'investment_Growth', 'investment_Value',\n",
       "       'size_Medium', 'size_Small', 'inception_date_delta'],\n",
       "      dtype='object')"
      ]
     },
     "execution_count": 160,
     "metadata": {},
     "output_type": "execute_result"
    }
   ],
   "source": [
    "mdf_test.columns"
   ]
  },
  {
   "cell_type": "code",
   "execution_count": 204,
   "metadata": {},
   "outputs": [],
   "source": [
    "mdf_test=(mdf_test-mdf_test.mean())/mdf_test.std()"
   ]
  },
  {
   "cell_type": "code",
   "execution_count": 205,
   "metadata": {},
   "outputs": [],
   "source": [
    "test_pred = xgb.predict(mdf_test)"
   ]
  },
  {
   "cell_type": "code",
   "execution_count": 206,
   "metadata": {},
   "outputs": [
    {
     "data": {
      "text/plain": [
       "array([-1.6263187e-02, -1.3561440e-01,  3.2880547e+01,  5.5154751e+01,\n",
       "        3.5141689e+01], dtype=float32)"
      ]
     },
     "execution_count": 206,
     "metadata": {},
     "output_type": "execute_result"
    }
   ],
   "source": [
    "test_pred[:5]"
   ]
  },
  {
   "cell_type": "code",
   "execution_count": 207,
   "metadata": {},
   "outputs": [
    {
     "data": {
      "text/plain": [
       "7621"
      ]
     },
     "execution_count": 207,
     "metadata": {},
     "output_type": "execute_result"
    }
   ],
   "source": [
    "len(test_pred)"
   ]
  },
  {
   "cell_type": "code",
   "execution_count": 208,
   "metadata": {},
   "outputs": [
    {
     "data": {
      "text/plain": [
       "numpy.ndarray"
      ]
     },
     "execution_count": 208,
     "metadata": {},
     "output_type": "execute_result"
    }
   ],
   "source": [
    "type(test_pred)"
   ]
  },
  {
   "cell_type": "code",
   "execution_count": 239,
   "metadata": {},
   "outputs": [],
   "source": [
    "test_df = pd.DataFrame(data=test_pred,columns=['bonds_aaa'])"
   ]
  },
  {
   "cell_type": "code",
   "execution_count": 240,
   "metadata": {},
   "outputs": [],
   "source": [
    "mdf_test2 = pd.read_csv('Yes_Bank_Test_Data.csv', encoding='palmos')"
   ]
  },
  {
   "cell_type": "code",
   "execution_count": 241,
   "metadata": {},
   "outputs": [],
   "source": [
    "test_df['serial number'] = mdf_test2['Serial Number']"
   ]
  },
  {
   "cell_type": "code",
   "execution_count": 242,
   "metadata": {},
   "outputs": [],
   "source": [
    "test_df = test_df[['serial number','bonds_aaa']]"
   ]
  },
  {
   "cell_type": "code",
   "execution_count": 243,
   "metadata": {},
   "outputs": [
    {
     "data": {
      "text/html": [
       "<div>\n",
       "<style scoped>\n",
       "    .dataframe tbody tr th:only-of-type {\n",
       "        vertical-align: middle;\n",
       "    }\n",
       "\n",
       "    .dataframe tbody tr th {\n",
       "        vertical-align: top;\n",
       "    }\n",
       "\n",
       "    .dataframe thead th {\n",
       "        text-align: right;\n",
       "    }\n",
       "</style>\n",
       "<table border=\"1\" class=\"dataframe\">\n",
       "  <thead>\n",
       "    <tr style=\"text-align: right;\">\n",
       "      <th></th>\n",
       "      <th>serial number</th>\n",
       "      <th>bonds_aaa</th>\n",
       "    </tr>\n",
       "  </thead>\n",
       "  <tbody>\n",
       "    <tr>\n",
       "      <th>0</th>\n",
       "      <td>1</td>\n",
       "      <td>-0.016263</td>\n",
       "    </tr>\n",
       "    <tr>\n",
       "      <th>1</th>\n",
       "      <td>2</td>\n",
       "      <td>-0.135614</td>\n",
       "    </tr>\n",
       "    <tr>\n",
       "      <th>2</th>\n",
       "      <td>3</td>\n",
       "      <td>32.880547</td>\n",
       "    </tr>\n",
       "    <tr>\n",
       "      <th>3</th>\n",
       "      <td>4</td>\n",
       "      <td>55.154751</td>\n",
       "    </tr>\n",
       "    <tr>\n",
       "      <th>4</th>\n",
       "      <td>5</td>\n",
       "      <td>35.141689</td>\n",
       "    </tr>\n",
       "  </tbody>\n",
       "</table>\n",
       "</div>"
      ],
      "text/plain": [
       "   serial number  bonds_aaa\n",
       "0              1  -0.016263\n",
       "1              2  -0.135614\n",
       "2              3  32.880547\n",
       "3              4  55.154751\n",
       "4              5  35.141689"
      ]
     },
     "execution_count": 243,
     "metadata": {},
     "output_type": "execute_result"
    }
   ],
   "source": [
    "test_df.head()"
   ]
  },
  {
   "cell_type": "code",
   "execution_count": 244,
   "metadata": {},
   "outputs": [],
   "source": [
    "test_50 = test_df[test_df.bonds_aaa<50]"
   ]
  },
  {
   "cell_type": "code",
   "execution_count": 245,
   "metadata": {},
   "outputs": [],
   "source": [
    "test_100 = test_df[test_df.bonds_aaa>=50]"
   ]
  },
  {
   "cell_type": "code",
   "execution_count": 249,
   "metadata": {},
   "outputs": [],
   "source": [
    "test__100 = test_df[test_df.bonds_aaa==100]"
   ]
  },
  {
   "cell_type": "code",
   "execution_count": 255,
   "metadata": {},
   "outputs": [],
   "source": [
    "test_50 = test_50.sort_values(by='bonds_aaa')\n",
    "test_100 = test_100.sort_values(by='bonds_aaa')\n",
    "test__100 = test__100.sort_values(by='bonds_aaa')"
   ]
  },
  {
   "cell_type": "code",
   "execution_count": 256,
   "metadata": {},
   "outputs": [],
   "source": [
    "output = pd.concat([test_50,test_100,test__100])"
   ]
  },
  {
   "cell_type": "code",
   "execution_count": 257,
   "metadata": {},
   "outputs": [
    {
     "data": {
      "text/html": [
       "<div>\n",
       "<style scoped>\n",
       "    .dataframe tbody tr th:only-of-type {\n",
       "        vertical-align: middle;\n",
       "    }\n",
       "\n",
       "    .dataframe tbody tr th {\n",
       "        vertical-align: top;\n",
       "    }\n",
       "\n",
       "    .dataframe thead th {\n",
       "        text-align: right;\n",
       "    }\n",
       "</style>\n",
       "<table border=\"1\" class=\"dataframe\">\n",
       "  <thead>\n",
       "    <tr style=\"text-align: right;\">\n",
       "      <th></th>\n",
       "      <th>serial number</th>\n",
       "      <th>bonds_aaa</th>\n",
       "    </tr>\n",
       "  </thead>\n",
       "  <tbody>\n",
       "    <tr>\n",
       "      <th>6148</th>\n",
       "      <td>6149</td>\n",
       "      <td>-8.742841</td>\n",
       "    </tr>\n",
       "    <tr>\n",
       "      <th>5603</th>\n",
       "      <td>5604</td>\n",
       "      <td>-1.859405</td>\n",
       "    </tr>\n",
       "    <tr>\n",
       "      <th>6769</th>\n",
       "      <td>6770</td>\n",
       "      <td>-1.841278</td>\n",
       "    </tr>\n",
       "    <tr>\n",
       "      <th>6759</th>\n",
       "      <td>6760</td>\n",
       "      <td>-1.721857</td>\n",
       "    </tr>\n",
       "    <tr>\n",
       "      <th>6764</th>\n",
       "      <td>6765</td>\n",
       "      <td>-1.704912</td>\n",
       "    </tr>\n",
       "  </tbody>\n",
       "</table>\n",
       "</div>"
      ],
      "text/plain": [
       "      serial number  bonds_aaa\n",
       "6148           6149  -8.742841\n",
       "5603           5604  -1.859405\n",
       "6769           6770  -1.841278\n",
       "6759           6760  -1.721857\n",
       "6764           6765  -1.704912"
      ]
     },
     "execution_count": 257,
     "metadata": {},
     "output_type": "execute_result"
    }
   ],
   "source": [
    "output.head()"
   ]
  },
  {
   "cell_type": "code",
   "execution_count": 258,
   "metadata": {},
   "outputs": [],
   "source": [
    "output['bonds_aaa'] = output['bonds_aaa'].apply(lambda x: 0 if x<0 else x)\n",
    "output['bonds_aaa'] = output['bonds_aaa'].apply(lambda x: round(x,2))"
   ]
  },
  {
   "cell_type": "code",
   "execution_count": 259,
   "metadata": {},
   "outputs": [
    {
     "data": {
      "text/html": [
       "<div>\n",
       "<style scoped>\n",
       "    .dataframe tbody tr th:only-of-type {\n",
       "        vertical-align: middle;\n",
       "    }\n",
       "\n",
       "    .dataframe tbody tr th {\n",
       "        vertical-align: top;\n",
       "    }\n",
       "\n",
       "    .dataframe thead th {\n",
       "        text-align: right;\n",
       "    }\n",
       "</style>\n",
       "<table border=\"1\" class=\"dataframe\">\n",
       "  <thead>\n",
       "    <tr style=\"text-align: right;\">\n",
       "      <th></th>\n",
       "      <th>serial number</th>\n",
       "      <th>bonds_aaa</th>\n",
       "    </tr>\n",
       "  </thead>\n",
       "  <tbody>\n",
       "    <tr>\n",
       "      <th>6148</th>\n",
       "      <td>6149</td>\n",
       "      <td>0.0</td>\n",
       "    </tr>\n",
       "    <tr>\n",
       "      <th>5603</th>\n",
       "      <td>5604</td>\n",
       "      <td>0.0</td>\n",
       "    </tr>\n",
       "    <tr>\n",
       "      <th>6769</th>\n",
       "      <td>6770</td>\n",
       "      <td>0.0</td>\n",
       "    </tr>\n",
       "    <tr>\n",
       "      <th>6759</th>\n",
       "      <td>6760</td>\n",
       "      <td>0.0</td>\n",
       "    </tr>\n",
       "    <tr>\n",
       "      <th>6764</th>\n",
       "      <td>6765</td>\n",
       "      <td>0.0</td>\n",
       "    </tr>\n",
       "  </tbody>\n",
       "</table>\n",
       "</div>"
      ],
      "text/plain": [
       "      serial number  bonds_aaa\n",
       "6148           6149        0.0\n",
       "5603           5604        0.0\n",
       "6769           6770        0.0\n",
       "6759           6760        0.0\n",
       "6764           6765        0.0"
      ]
     },
     "execution_count": 259,
     "metadata": {},
     "output_type": "execute_result"
    }
   ],
   "source": [
    "output.head()"
   ]
  },
  {
   "cell_type": "code",
   "execution_count": 233,
   "metadata": {},
   "outputs": [],
   "source": [
    "test_df_sort = test_df.sort_values(by='bonds_aaa')"
   ]
  },
  {
   "cell_type": "code",
   "execution_count": 227,
   "metadata": {},
   "outputs": [],
   "source": [
    "test_df['bonds_aaa'] = test_df['bonds_aaa'].apply(lambda x: 0 if x<0 else x)"
   ]
  },
  {
   "cell_type": "code",
   "execution_count": 228,
   "metadata": {},
   "outputs": [],
   "source": [
    "test_df['bonds_aaa'] = test_df['bonds_aaa'].apply(lambda x: round(x,2))"
   ]
  },
  {
   "cell_type": "code",
   "execution_count": 234,
   "metadata": {},
   "outputs": [
    {
     "data": {
      "text/html": [
       "<div>\n",
       "<style scoped>\n",
       "    .dataframe tbody tr th:only-of-type {\n",
       "        vertical-align: middle;\n",
       "    }\n",
       "\n",
       "    .dataframe tbody tr th {\n",
       "        vertical-align: top;\n",
       "    }\n",
       "\n",
       "    .dataframe thead th {\n",
       "        text-align: right;\n",
       "    }\n",
       "</style>\n",
       "<table border=\"1\" class=\"dataframe\">\n",
       "  <thead>\n",
       "    <tr style=\"text-align: right;\">\n",
       "      <th></th>\n",
       "      <th>serial number</th>\n",
       "      <th>bonds_aaa</th>\n",
       "    </tr>\n",
       "  </thead>\n",
       "  <tbody>\n",
       "    <tr>\n",
       "      <th>0</th>\n",
       "      <td>1</td>\n",
       "      <td>0.0</td>\n",
       "    </tr>\n",
       "    <tr>\n",
       "      <th>3787</th>\n",
       "      <td>3788</td>\n",
       "      <td>0.0</td>\n",
       "    </tr>\n",
       "    <tr>\n",
       "      <th>3804</th>\n",
       "      <td>3805</td>\n",
       "      <td>0.0</td>\n",
       "    </tr>\n",
       "    <tr>\n",
       "      <th>3806</th>\n",
       "      <td>3807</td>\n",
       "      <td>0.0</td>\n",
       "    </tr>\n",
       "    <tr>\n",
       "      <th>3807</th>\n",
       "      <td>3808</td>\n",
       "      <td>0.0</td>\n",
       "    </tr>\n",
       "  </tbody>\n",
       "</table>\n",
       "</div>"
      ],
      "text/plain": [
       "      serial number  bonds_aaa\n",
       "0                 1        0.0\n",
       "3787           3788        0.0\n",
       "3804           3805        0.0\n",
       "3806           3807        0.0\n",
       "3807           3808        0.0"
      ]
     },
     "execution_count": 234,
     "metadata": {},
     "output_type": "execute_result"
    }
   ],
   "source": [
    "test_df_sort.head()"
   ]
  },
  {
   "cell_type": "code",
   "execution_count": 235,
   "metadata": {},
   "outputs": [],
   "source": [
    "test_df_sort.to_csv(\"submission_4_horsemen.csv\", sep=',',index=False)"
   ]
  },
  {
   "cell_type": "code",
   "execution_count": 261,
   "metadata": {},
   "outputs": [],
   "source": [
    "output.to_csv(\"submission2_4_horsemen.csv\", sep=',')"
   ]
  },
  {
   "cell_type": "code",
   "execution_count": null,
   "metadata": {},
   "outputs": [],
   "source": []
  }
 ],
 "metadata": {
  "kernelspec": {
   "display_name": "Python 3",
   "language": "python",
   "name": "python3"
  },
  "language_info": {
   "codemirror_mode": {
    "name": "ipython",
    "version": 3
   },
   "file_extension": ".py",
   "mimetype": "text/x-python",
   "name": "python",
   "nbconvert_exporter": "python",
   "pygments_lexer": "ipython3",
   "version": "3.6.4"
  }
 },
 "nbformat": 4,
 "nbformat_minor": 2
}
